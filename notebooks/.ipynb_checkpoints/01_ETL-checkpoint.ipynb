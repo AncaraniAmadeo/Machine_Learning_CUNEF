{
 "cells": [
  {
   "cell_type": "markdown",
   "metadata": {},
   "source": [
    "# Prática Machine Learning - CUNEF\n",
    "\n",
    "## Alumno: Amadeo Gustavo Ancarani\n",
    "\n",
    "### Definición del problema:\n",
    "En base a los datos de los accidentes de tráfico canadienses desde 1999 a 2014, se intenta estimar ante nuevos accidentes, si el accidente en cuestión, tiene fatalidades. \n",
    "\n",
    "El motivo principal por el cual realizamos estas estimaciones es las aseguradoras tienen que inmovilizar capital para pagar estas casuísticas. Entonces, se busca minimizar el capital inmovilizado dado que se pierde la rentabilidad de tener el dinero invertido, sin afectar el hecho de que este dinero inmovilizado estará disponible para cubrir de alguna manera las necesidades de quienes sean afectados por estos hechos."
   ]
  },
  {
   "cell_type": "markdown",
   "metadata": {},
   "source": [
    "#### Resumiendo: Se desea predecir, al momento de captar un reclamo por accidente, la probabilidad de que en el mismo, hayan habido fatalidad o fatalidades. \n",
    "\n",
    "\n",
    "## Los pasos a realizar son:\n",
    "\n",
    "1. Análisis inicial de los datos y preprocesamiento inicial\n",
    "2. Correlaciones, tratamiento de missing y outliers\n",
    "4. Tratamiento de variables categoricas: encoding\n",
    "5. Aplicación de algoritmos\n",
    "6. Evaluación con la muestra de test"
   ]
  },
  {
   "cell_type": "markdown",
   "metadata": {},
   "source": [
    "## 1. Análisis inicial de los datos y preprocesamiento inicial"
   ]
  },
  {
   "cell_type": "markdown",
   "metadata": {},
   "source": [
    "### Importo librerias "
   ]
  },
  {
   "cell_type": "code",
   "execution_count": 42,
   "metadata": {},
   "outputs": [],
   "source": [
    "# primero todas las librerías por bloques\n",
    "import numpy as np\n",
    "import pandas as pd\n",
    "import matplotlib.pyplot as plt\n",
    "%matplotlib inline\n",
    "import seaborn as sns\n",
    "sns.set()\n",
    "import warnings\n",
    "warnings.filterwarnings(\"ignore\")\n",
    "from sklearn import tree\n",
    "from sklearn.utils import resample\n",
    "#from sklearn.pipeline import Pipeline\n",
    "#from sklearn.impute import SimpleImputer\n",
    "#from sklearn.preprocessing import StandardScaler, OneHotEncoder\n",
    "#from sklearn.preprocessing import LabelEncoder\n",
    "from sklearn.model_selection import train_test_split\n",
    "\n",
    "from sklearn.metrics import classification_report, confusion_matrix, roc_curve, auc, \\\n",
    "                            silhouette_score, recall_score, precision_score, make_scorer, \\\n",
    "                            roc_auc_score, f1_score, precision_recall_curve\n",
    "\n",
    "from sklearn.metrics import accuracy_score, roc_auc_score, \\\n",
    "                            classification_report, confusion_matrix\n",
    "\n",
    "\n",
    "from sklearn import metrics\n",
    "from sklearn.metrics import plot_confusion_matrix\n",
    "#from sklearn.compose import ColumnTransformer\n",
    "from sklearn.naive_bayes import MultinomialNB, BernoulliNB, GaussianNB\n",
    "import statsmodels.api as sm\n",
    "import plotly.express as px\n",
    "from sklearn.impute import KNNImputer"
   ]
  },
  {
   "cell_type": "markdown",
   "metadata": {},
   "source": [
    "### Importo el dataset"
   ]
  },
  {
   "cell_type": "code",
   "execution_count": 43,
   "metadata": {},
   "outputs": [
    {
     "data": {
      "text/html": [
       "<div>\n",
       "<style scoped>\n",
       "    .dataframe tbody tr th:only-of-type {\n",
       "        vertical-align: middle;\n",
       "    }\n",
       "\n",
       "    .dataframe tbody tr th {\n",
       "        vertical-align: top;\n",
       "    }\n",
       "\n",
       "    .dataframe thead th {\n",
       "        text-align: right;\n",
       "    }\n",
       "</style>\n",
       "<table border=\"1\" class=\"dataframe\">\n",
       "  <thead>\n",
       "    <tr style=\"text-align: right;\">\n",
       "      <th></th>\n",
       "      <th>C_YEAR</th>\n",
       "      <th>C_MNTH</th>\n",
       "      <th>C_WDAY</th>\n",
       "      <th>C_HOUR</th>\n",
       "      <th>C_SEV</th>\n",
       "      <th>C_VEHS</th>\n",
       "      <th>C_CONF</th>\n",
       "      <th>C_RCFG</th>\n",
       "      <th>C_WTHR</th>\n",
       "      <th>C_RSUR</th>\n",
       "      <th>...</th>\n",
       "      <th>V_ID</th>\n",
       "      <th>V_TYPE</th>\n",
       "      <th>V_YEAR</th>\n",
       "      <th>P_ID</th>\n",
       "      <th>P_SEX</th>\n",
       "      <th>P_AGE</th>\n",
       "      <th>P_PSN</th>\n",
       "      <th>P_ISEV</th>\n",
       "      <th>P_SAFE</th>\n",
       "      <th>P_USER</th>\n",
       "    </tr>\n",
       "  </thead>\n",
       "  <tbody>\n",
       "    <tr>\n",
       "      <th>0</th>\n",
       "      <td>1999</td>\n",
       "      <td>01</td>\n",
       "      <td>1</td>\n",
       "      <td>20</td>\n",
       "      <td>2</td>\n",
       "      <td>02</td>\n",
       "      <td>34</td>\n",
       "      <td>UU</td>\n",
       "      <td>1</td>\n",
       "      <td>5</td>\n",
       "      <td>...</td>\n",
       "      <td>01</td>\n",
       "      <td>06</td>\n",
       "      <td>1990</td>\n",
       "      <td>01</td>\n",
       "      <td>M</td>\n",
       "      <td>41</td>\n",
       "      <td>11</td>\n",
       "      <td>1</td>\n",
       "      <td>UU</td>\n",
       "      <td>1</td>\n",
       "    </tr>\n",
       "    <tr>\n",
       "      <th>1</th>\n",
       "      <td>1999</td>\n",
       "      <td>01</td>\n",
       "      <td>1</td>\n",
       "      <td>20</td>\n",
       "      <td>2</td>\n",
       "      <td>02</td>\n",
       "      <td>34</td>\n",
       "      <td>UU</td>\n",
       "      <td>1</td>\n",
       "      <td>5</td>\n",
       "      <td>...</td>\n",
       "      <td>02</td>\n",
       "      <td>01</td>\n",
       "      <td>1987</td>\n",
       "      <td>01</td>\n",
       "      <td>M</td>\n",
       "      <td>19</td>\n",
       "      <td>11</td>\n",
       "      <td>1</td>\n",
       "      <td>UU</td>\n",
       "      <td>1</td>\n",
       "    </tr>\n",
       "    <tr>\n",
       "      <th>2</th>\n",
       "      <td>1999</td>\n",
       "      <td>01</td>\n",
       "      <td>1</td>\n",
       "      <td>20</td>\n",
       "      <td>2</td>\n",
       "      <td>02</td>\n",
       "      <td>34</td>\n",
       "      <td>UU</td>\n",
       "      <td>1</td>\n",
       "      <td>5</td>\n",
       "      <td>...</td>\n",
       "      <td>02</td>\n",
       "      <td>01</td>\n",
       "      <td>1987</td>\n",
       "      <td>02</td>\n",
       "      <td>F</td>\n",
       "      <td>20</td>\n",
       "      <td>13</td>\n",
       "      <td>2</td>\n",
       "      <td>02</td>\n",
       "      <td>2</td>\n",
       "    </tr>\n",
       "    <tr>\n",
       "      <th>3</th>\n",
       "      <td>1999</td>\n",
       "      <td>01</td>\n",
       "      <td>1</td>\n",
       "      <td>08</td>\n",
       "      <td>2</td>\n",
       "      <td>01</td>\n",
       "      <td>01</td>\n",
       "      <td>UU</td>\n",
       "      <td>5</td>\n",
       "      <td>3</td>\n",
       "      <td>...</td>\n",
       "      <td>01</td>\n",
       "      <td>01</td>\n",
       "      <td>1986</td>\n",
       "      <td>01</td>\n",
       "      <td>M</td>\n",
       "      <td>46</td>\n",
       "      <td>11</td>\n",
       "      <td>1</td>\n",
       "      <td>UU</td>\n",
       "      <td>1</td>\n",
       "    </tr>\n",
       "    <tr>\n",
       "      <th>4</th>\n",
       "      <td>1999</td>\n",
       "      <td>01</td>\n",
       "      <td>1</td>\n",
       "      <td>08</td>\n",
       "      <td>2</td>\n",
       "      <td>01</td>\n",
       "      <td>01</td>\n",
       "      <td>UU</td>\n",
       "      <td>5</td>\n",
       "      <td>3</td>\n",
       "      <td>...</td>\n",
       "      <td>99</td>\n",
       "      <td>NN</td>\n",
       "      <td>NNNN</td>\n",
       "      <td>01</td>\n",
       "      <td>M</td>\n",
       "      <td>05</td>\n",
       "      <td>99</td>\n",
       "      <td>2</td>\n",
       "      <td>UU</td>\n",
       "      <td>3</td>\n",
       "    </tr>\n",
       "  </tbody>\n",
       "</table>\n",
       "<p>5 rows × 22 columns</p>\n",
       "</div>"
      ],
      "text/plain": [
       "   C_YEAR C_MNTH C_WDAY C_HOUR  C_SEV C_VEHS C_CONF C_RCFG C_WTHR C_RSUR  ...  \\\n",
       "0    1999     01      1     20      2     02     34     UU      1      5  ...   \n",
       "1    1999     01      1     20      2     02     34     UU      1      5  ...   \n",
       "2    1999     01      1     20      2     02     34     UU      1      5  ...   \n",
       "3    1999     01      1     08      2     01     01     UU      5      3  ...   \n",
       "4    1999     01      1     08      2     01     01     UU      5      3  ...   \n",
       "\n",
       "  V_ID V_TYPE V_YEAR P_ID P_SEX P_AGE P_PSN P_ISEV P_SAFE P_USER  \n",
       "0   01     06   1990   01     M    41    11      1     UU      1  \n",
       "1   02     01   1987   01     M    19    11      1     UU      1  \n",
       "2   02     01   1987   02     F    20    13      2     02      2  \n",
       "3   01     01   1986   01     M    46    11      1     UU      1  \n",
       "4   99     NN   NNNN   01     M    05    99      2     UU      3  \n",
       "\n",
       "[5 rows x 22 columns]"
      ]
     },
     "execution_count": 43,
     "metadata": {},
     "output_type": "execute_result"
    }
   ],
   "source": [
    "initial_data = pd.read_csv(\"../data/NCDB_1999_to_2014.csv\",low_memory=False)\n",
    "initial_data.head()"
   ]
  },
  {
   "cell_type": "markdown",
   "metadata": {},
   "source": [
    "El conjunto de datos contiene variables que no estan disponibles para la aseguradora en el momento en que se presenta un anuncio de accidente en su plataforma. Estas deben eliminarse para realizar modelos ya que se estaría introduciendo información que el modelo en el momento en que lo queremos aplicar no tendría."
   ]
  },
  {
   "cell_type": "code",
   "execution_count": 45,
   "metadata": {},
   "outputs": [],
   "source": [
    "data = initial_data.drop(columns=['C_TRAF', 'P_ISEV'])"
   ]
  },
  {
   "cell_type": "markdown",
   "metadata": {},
   "source": [
    "### Analisis generales de la tabla\n",
    "\n",
    "#### Dimensión"
   ]
  },
  {
   "cell_type": "code",
   "execution_count": 46,
   "metadata": {},
   "outputs": [
    {
     "data": {
      "text/plain": [
       "(5860405, 20)"
      ]
     },
     "execution_count": 46,
     "metadata": {},
     "output_type": "execute_result"
    }
   ],
   "source": [
    "data.shape"
   ]
  },
  {
   "cell_type": "markdown",
   "metadata": {},
   "source": [
    "#### Tipos de datos"
   ]
  },
  {
   "cell_type": "code",
   "execution_count": 47,
   "metadata": {},
   "outputs": [
    {
     "data": {
      "text/plain": [
       "{'C_YEAR': dtype('int64'),\n",
       " 'C_MNTH': dtype('O'),\n",
       " 'C_WDAY': dtype('O'),\n",
       " 'C_HOUR': dtype('O'),\n",
       " 'C_SEV': dtype('int64'),\n",
       " 'C_VEHS': dtype('O'),\n",
       " 'C_CONF': dtype('O'),\n",
       " 'C_RCFG': dtype('O'),\n",
       " 'C_WTHR': dtype('O'),\n",
       " 'C_RSUR': dtype('O'),\n",
       " 'C_RALN': dtype('O'),\n",
       " 'V_ID': dtype('O'),\n",
       " 'V_TYPE': dtype('O'),\n",
       " 'V_YEAR': dtype('O'),\n",
       " 'P_ID': dtype('O'),\n",
       " 'P_SEX': dtype('O'),\n",
       " 'P_AGE': dtype('O'),\n",
       " 'P_PSN': dtype('O'),\n",
       " 'P_SAFE': dtype('O'),\n",
       " 'P_USER': dtype('O')}"
      ]
     },
     "execution_count": 47,
     "metadata": {},
     "output_type": "execute_result"
    }
   ],
   "source": [
    "data.dtypes.to_dict()"
   ]
  },
  {
   "cell_type": "markdown",
   "metadata": {},
   "source": [
    "### Exploración de la variable objetivo y tratamiento"
   ]
  },
  {
   "cell_type": "code",
   "execution_count": 49,
   "metadata": {},
   "outputs": [
    {
     "name": "stdout",
     "output_type": "stream",
     "text": [
      "<class 'pandas.core.frame.DataFrame'>\n",
      "RangeIndex: 5860405 entries, 0 to 5860404\n",
      "Data columns (total 1 columns):\n",
      " #   Column  Dtype\n",
      "---  ------  -----\n",
      " 0   C_SEV   int64\n",
      "dtypes: int64(1)\n",
      "memory usage: 44.7 MB\n"
     ]
    }
   ],
   "source": [
    "data[['C_SEV']].info()"
   ]
  },
  {
   "cell_type": "code",
   "execution_count": 50,
   "metadata": {},
   "outputs": [],
   "source": [
    "objetivo = pd.DataFrame(data['C_SEV'].value_counts())\n",
    "objetivo.columns = ['Acc con Fatalidades']\n",
    "objetivo['Porcentaje'] = data['C_SEV'].value_counts()*100/len(data)\n",
    "objetivo.reset_index(inplace=True)\n",
    "objetivo.rename(columns={'index':'Values'}, inplace=True)\n",
    "#objetivo"
   ]
  },
  {
   "cell_type": "code",
   "execution_count": 51,
   "metadata": {},
   "outputs": [
    {
     "data": {
      "application/vnd.plotly.v1+json": {
       "config": {
        "plotlyServerURL": "https://plot.ly"
       },
       "data": [
        {
         "alignmentgroup": "True",
         "hovertemplate": "variable=Porcentaje<br>Values=%{x}<br>value=%{y}<extra></extra>",
         "legendgroup": "Porcentaje",
         "marker": {
          "color": "#636efa",
          "pattern": {
           "shape": ""
          }
         },
         "name": "Porcentaje",
         "offsetgroup": "Porcentaje",
         "orientation": "v",
         "showlegend": true,
         "textposition": "auto",
         "type": "bar",
         "x": [
          2,
          1
         ],
         "xaxis": "x",
         "y": [
          98.31695932277718,
          1.68304067722282
         ],
         "yaxis": "y"
        },
        {
         "alignmentgroup": "True",
         "hovertemplate": "variable=Acc con Fatalidades<br>Values=%{x}<br>value=%{y}<extra></extra>",
         "legendgroup": "Acc con Fatalidades",
         "marker": {
          "color": "#EF553B",
          "pattern": {
           "shape": ""
          }
         },
         "name": "Acc con Fatalidades",
         "offsetgroup": "Acc con Fatalidades",
         "orientation": "v",
         "showlegend": true,
         "textposition": "auto",
         "type": "bar",
         "x": [
          2,
          1
         ],
         "xaxis": "x",
         "y": [
          5761772,
          98633
         ],
         "yaxis": "y"
        }
       ],
       "layout": {
        "barmode": "relative",
        "legend": {
         "title": {
          "text": "variable"
         },
         "tracegroupgap": 0
        },
        "margin": {
         "t": 60
        },
        "template": {
         "data": {
          "bar": [
           {
            "error_x": {
             "color": "#2a3f5f"
            },
            "error_y": {
             "color": "#2a3f5f"
            },
            "marker": {
             "line": {
              "color": "#E5ECF6",
              "width": 0.5
             },
             "pattern": {
              "fillmode": "overlay",
              "size": 10,
              "solidity": 0.2
             }
            },
            "type": "bar"
           }
          ],
          "barpolar": [
           {
            "marker": {
             "line": {
              "color": "#E5ECF6",
              "width": 0.5
             },
             "pattern": {
              "fillmode": "overlay",
              "size": 10,
              "solidity": 0.2
             }
            },
            "type": "barpolar"
           }
          ],
          "carpet": [
           {
            "aaxis": {
             "endlinecolor": "#2a3f5f",
             "gridcolor": "white",
             "linecolor": "white",
             "minorgridcolor": "white",
             "startlinecolor": "#2a3f5f"
            },
            "baxis": {
             "endlinecolor": "#2a3f5f",
             "gridcolor": "white",
             "linecolor": "white",
             "minorgridcolor": "white",
             "startlinecolor": "#2a3f5f"
            },
            "type": "carpet"
           }
          ],
          "choropleth": [
           {
            "colorbar": {
             "outlinewidth": 0,
             "ticks": ""
            },
            "type": "choropleth"
           }
          ],
          "contour": [
           {
            "colorbar": {
             "outlinewidth": 0,
             "ticks": ""
            },
            "colorscale": [
             [
              0,
              "#0d0887"
             ],
             [
              0.1111111111111111,
              "#46039f"
             ],
             [
              0.2222222222222222,
              "#7201a8"
             ],
             [
              0.3333333333333333,
              "#9c179e"
             ],
             [
              0.4444444444444444,
              "#bd3786"
             ],
             [
              0.5555555555555556,
              "#d8576b"
             ],
             [
              0.6666666666666666,
              "#ed7953"
             ],
             [
              0.7777777777777778,
              "#fb9f3a"
             ],
             [
              0.8888888888888888,
              "#fdca26"
             ],
             [
              1,
              "#f0f921"
             ]
            ],
            "type": "contour"
           }
          ],
          "contourcarpet": [
           {
            "colorbar": {
             "outlinewidth": 0,
             "ticks": ""
            },
            "type": "contourcarpet"
           }
          ],
          "heatmap": [
           {
            "colorbar": {
             "outlinewidth": 0,
             "ticks": ""
            },
            "colorscale": [
             [
              0,
              "#0d0887"
             ],
             [
              0.1111111111111111,
              "#46039f"
             ],
             [
              0.2222222222222222,
              "#7201a8"
             ],
             [
              0.3333333333333333,
              "#9c179e"
             ],
             [
              0.4444444444444444,
              "#bd3786"
             ],
             [
              0.5555555555555556,
              "#d8576b"
             ],
             [
              0.6666666666666666,
              "#ed7953"
             ],
             [
              0.7777777777777778,
              "#fb9f3a"
             ],
             [
              0.8888888888888888,
              "#fdca26"
             ],
             [
              1,
              "#f0f921"
             ]
            ],
            "type": "heatmap"
           }
          ],
          "heatmapgl": [
           {
            "colorbar": {
             "outlinewidth": 0,
             "ticks": ""
            },
            "colorscale": [
             [
              0,
              "#0d0887"
             ],
             [
              0.1111111111111111,
              "#46039f"
             ],
             [
              0.2222222222222222,
              "#7201a8"
             ],
             [
              0.3333333333333333,
              "#9c179e"
             ],
             [
              0.4444444444444444,
              "#bd3786"
             ],
             [
              0.5555555555555556,
              "#d8576b"
             ],
             [
              0.6666666666666666,
              "#ed7953"
             ],
             [
              0.7777777777777778,
              "#fb9f3a"
             ],
             [
              0.8888888888888888,
              "#fdca26"
             ],
             [
              1,
              "#f0f921"
             ]
            ],
            "type": "heatmapgl"
           }
          ],
          "histogram": [
           {
            "marker": {
             "pattern": {
              "fillmode": "overlay",
              "size": 10,
              "solidity": 0.2
             }
            },
            "type": "histogram"
           }
          ],
          "histogram2d": [
           {
            "colorbar": {
             "outlinewidth": 0,
             "ticks": ""
            },
            "colorscale": [
             [
              0,
              "#0d0887"
             ],
             [
              0.1111111111111111,
              "#46039f"
             ],
             [
              0.2222222222222222,
              "#7201a8"
             ],
             [
              0.3333333333333333,
              "#9c179e"
             ],
             [
              0.4444444444444444,
              "#bd3786"
             ],
             [
              0.5555555555555556,
              "#d8576b"
             ],
             [
              0.6666666666666666,
              "#ed7953"
             ],
             [
              0.7777777777777778,
              "#fb9f3a"
             ],
             [
              0.8888888888888888,
              "#fdca26"
             ],
             [
              1,
              "#f0f921"
             ]
            ],
            "type": "histogram2d"
           }
          ],
          "histogram2dcontour": [
           {
            "colorbar": {
             "outlinewidth": 0,
             "ticks": ""
            },
            "colorscale": [
             [
              0,
              "#0d0887"
             ],
             [
              0.1111111111111111,
              "#46039f"
             ],
             [
              0.2222222222222222,
              "#7201a8"
             ],
             [
              0.3333333333333333,
              "#9c179e"
             ],
             [
              0.4444444444444444,
              "#bd3786"
             ],
             [
              0.5555555555555556,
              "#d8576b"
             ],
             [
              0.6666666666666666,
              "#ed7953"
             ],
             [
              0.7777777777777778,
              "#fb9f3a"
             ],
             [
              0.8888888888888888,
              "#fdca26"
             ],
             [
              1,
              "#f0f921"
             ]
            ],
            "type": "histogram2dcontour"
           }
          ],
          "mesh3d": [
           {
            "colorbar": {
             "outlinewidth": 0,
             "ticks": ""
            },
            "type": "mesh3d"
           }
          ],
          "parcoords": [
           {
            "line": {
             "colorbar": {
              "outlinewidth": 0,
              "ticks": ""
             }
            },
            "type": "parcoords"
           }
          ],
          "pie": [
           {
            "automargin": true,
            "type": "pie"
           }
          ],
          "scatter": [
           {
            "marker": {
             "colorbar": {
              "outlinewidth": 0,
              "ticks": ""
             }
            },
            "type": "scatter"
           }
          ],
          "scatter3d": [
           {
            "line": {
             "colorbar": {
              "outlinewidth": 0,
              "ticks": ""
             }
            },
            "marker": {
             "colorbar": {
              "outlinewidth": 0,
              "ticks": ""
             }
            },
            "type": "scatter3d"
           }
          ],
          "scattercarpet": [
           {
            "marker": {
             "colorbar": {
              "outlinewidth": 0,
              "ticks": ""
             }
            },
            "type": "scattercarpet"
           }
          ],
          "scattergeo": [
           {
            "marker": {
             "colorbar": {
              "outlinewidth": 0,
              "ticks": ""
             }
            },
            "type": "scattergeo"
           }
          ],
          "scattergl": [
           {
            "marker": {
             "colorbar": {
              "outlinewidth": 0,
              "ticks": ""
             }
            },
            "type": "scattergl"
           }
          ],
          "scattermapbox": [
           {
            "marker": {
             "colorbar": {
              "outlinewidth": 0,
              "ticks": ""
             }
            },
            "type": "scattermapbox"
           }
          ],
          "scatterpolar": [
           {
            "marker": {
             "colorbar": {
              "outlinewidth": 0,
              "ticks": ""
             }
            },
            "type": "scatterpolar"
           }
          ],
          "scatterpolargl": [
           {
            "marker": {
             "colorbar": {
              "outlinewidth": 0,
              "ticks": ""
             }
            },
            "type": "scatterpolargl"
           }
          ],
          "scatterternary": [
           {
            "marker": {
             "colorbar": {
              "outlinewidth": 0,
              "ticks": ""
             }
            },
            "type": "scatterternary"
           }
          ],
          "surface": [
           {
            "colorbar": {
             "outlinewidth": 0,
             "ticks": ""
            },
            "colorscale": [
             [
              0,
              "#0d0887"
             ],
             [
              0.1111111111111111,
              "#46039f"
             ],
             [
              0.2222222222222222,
              "#7201a8"
             ],
             [
              0.3333333333333333,
              "#9c179e"
             ],
             [
              0.4444444444444444,
              "#bd3786"
             ],
             [
              0.5555555555555556,
              "#d8576b"
             ],
             [
              0.6666666666666666,
              "#ed7953"
             ],
             [
              0.7777777777777778,
              "#fb9f3a"
             ],
             [
              0.8888888888888888,
              "#fdca26"
             ],
             [
              1,
              "#f0f921"
             ]
            ],
            "type": "surface"
           }
          ],
          "table": [
           {
            "cells": {
             "fill": {
              "color": "#EBF0F8"
             },
             "line": {
              "color": "white"
             }
            },
            "header": {
             "fill": {
              "color": "#C8D4E3"
             },
             "line": {
              "color": "white"
             }
            },
            "type": "table"
           }
          ]
         },
         "layout": {
          "annotationdefaults": {
           "arrowcolor": "#2a3f5f",
           "arrowhead": 0,
           "arrowwidth": 1
          },
          "autotypenumbers": "strict",
          "coloraxis": {
           "colorbar": {
            "outlinewidth": 0,
            "ticks": ""
           }
          },
          "colorscale": {
           "diverging": [
            [
             0,
             "#8e0152"
            ],
            [
             0.1,
             "#c51b7d"
            ],
            [
             0.2,
             "#de77ae"
            ],
            [
             0.3,
             "#f1b6da"
            ],
            [
             0.4,
             "#fde0ef"
            ],
            [
             0.5,
             "#f7f7f7"
            ],
            [
             0.6,
             "#e6f5d0"
            ],
            [
             0.7,
             "#b8e186"
            ],
            [
             0.8,
             "#7fbc41"
            ],
            [
             0.9,
             "#4d9221"
            ],
            [
             1,
             "#276419"
            ]
           ],
           "sequential": [
            [
             0,
             "#0d0887"
            ],
            [
             0.1111111111111111,
             "#46039f"
            ],
            [
             0.2222222222222222,
             "#7201a8"
            ],
            [
             0.3333333333333333,
             "#9c179e"
            ],
            [
             0.4444444444444444,
             "#bd3786"
            ],
            [
             0.5555555555555556,
             "#d8576b"
            ],
            [
             0.6666666666666666,
             "#ed7953"
            ],
            [
             0.7777777777777778,
             "#fb9f3a"
            ],
            [
             0.8888888888888888,
             "#fdca26"
            ],
            [
             1,
             "#f0f921"
            ]
           ],
           "sequentialminus": [
            [
             0,
             "#0d0887"
            ],
            [
             0.1111111111111111,
             "#46039f"
            ],
            [
             0.2222222222222222,
             "#7201a8"
            ],
            [
             0.3333333333333333,
             "#9c179e"
            ],
            [
             0.4444444444444444,
             "#bd3786"
            ],
            [
             0.5555555555555556,
             "#d8576b"
            ],
            [
             0.6666666666666666,
             "#ed7953"
            ],
            [
             0.7777777777777778,
             "#fb9f3a"
            ],
            [
             0.8888888888888888,
             "#fdca26"
            ],
            [
             1,
             "#f0f921"
            ]
           ]
          },
          "colorway": [
           "#636efa",
           "#EF553B",
           "#00cc96",
           "#ab63fa",
           "#FFA15A",
           "#19d3f3",
           "#FF6692",
           "#B6E880",
           "#FF97FF",
           "#FECB52"
          ],
          "font": {
           "color": "#2a3f5f"
          },
          "geo": {
           "bgcolor": "white",
           "lakecolor": "white",
           "landcolor": "#E5ECF6",
           "showlakes": true,
           "showland": true,
           "subunitcolor": "white"
          },
          "hoverlabel": {
           "align": "left"
          },
          "hovermode": "closest",
          "mapbox": {
           "style": "light"
          },
          "paper_bgcolor": "white",
          "plot_bgcolor": "#E5ECF6",
          "polar": {
           "angularaxis": {
            "gridcolor": "white",
            "linecolor": "white",
            "ticks": ""
           },
           "bgcolor": "#E5ECF6",
           "radialaxis": {
            "gridcolor": "white",
            "linecolor": "white",
            "ticks": ""
           }
          },
          "scene": {
           "xaxis": {
            "backgroundcolor": "#E5ECF6",
            "gridcolor": "white",
            "gridwidth": 2,
            "linecolor": "white",
            "showbackground": true,
            "ticks": "",
            "zerolinecolor": "white"
           },
           "yaxis": {
            "backgroundcolor": "#E5ECF6",
            "gridcolor": "white",
            "gridwidth": 2,
            "linecolor": "white",
            "showbackground": true,
            "ticks": "",
            "zerolinecolor": "white"
           },
           "zaxis": {
            "backgroundcolor": "#E5ECF6",
            "gridcolor": "white",
            "gridwidth": 2,
            "linecolor": "white",
            "showbackground": true,
            "ticks": "",
            "zerolinecolor": "white"
           }
          },
          "shapedefaults": {
           "line": {
            "color": "#2a3f5f"
           }
          },
          "ternary": {
           "aaxis": {
            "gridcolor": "white",
            "linecolor": "white",
            "ticks": ""
           },
           "baxis": {
            "gridcolor": "white",
            "linecolor": "white",
            "ticks": ""
           },
           "bgcolor": "#E5ECF6",
           "caxis": {
            "gridcolor": "white",
            "linecolor": "white",
            "ticks": ""
           }
          },
          "title": {
           "x": 0.05
          },
          "xaxis": {
           "automargin": true,
           "gridcolor": "white",
           "linecolor": "white",
           "ticks": "",
           "title": {
            "standoff": 15
           },
           "zerolinecolor": "white",
           "zerolinewidth": 2
          },
          "yaxis": {
           "automargin": true,
           "gridcolor": "white",
           "linecolor": "white",
           "ticks": "",
           "title": {
            "standoff": 15
           },
           "zerolinecolor": "white",
           "zerolinewidth": 2
          }
         }
        },
        "xaxis": {
         "anchor": "y",
         "domain": [
          0,
          1
         ],
         "title": {
          "text": "Values"
         }
        },
        "yaxis": {
         "anchor": "x",
         "domain": [
          0,
          1
         ],
         "title": {
          "text": "value"
         }
        }
       }
      },
      "text/html": [
       "<div>                            <div id=\"7d8d6eb6-9951-468e-82f4-3a53dd69eaca\" class=\"plotly-graph-div\" style=\"height:525px; width:100%;\"></div>            <script type=\"text/javascript\">                require([\"plotly\"], function(Plotly) {                    window.PLOTLYENV=window.PLOTLYENV || {};                                    if (document.getElementById(\"7d8d6eb6-9951-468e-82f4-3a53dd69eaca\")) {                    Plotly.newPlot(                        \"7d8d6eb6-9951-468e-82f4-3a53dd69eaca\",                        [{\"alignmentgroup\":\"True\",\"hovertemplate\":\"variable=Porcentaje<br>Values=%{x}<br>value=%{y}<extra></extra>\",\"legendgroup\":\"Porcentaje\",\"marker\":{\"color\":\"#636efa\",\"pattern\":{\"shape\":\"\"}},\"name\":\"Porcentaje\",\"offsetgroup\":\"Porcentaje\",\"orientation\":\"v\",\"showlegend\":true,\"textposition\":\"auto\",\"type\":\"bar\",\"x\":[2,1],\"xaxis\":\"x\",\"y\":[98.31695932277718,1.68304067722282],\"yaxis\":\"y\"},{\"alignmentgroup\":\"True\",\"hovertemplate\":\"variable=Acc con Fatalidades<br>Values=%{x}<br>value=%{y}<extra></extra>\",\"legendgroup\":\"Acc con Fatalidades\",\"marker\":{\"color\":\"#EF553B\",\"pattern\":{\"shape\":\"\"}},\"name\":\"Acc con Fatalidades\",\"offsetgroup\":\"Acc con Fatalidades\",\"orientation\":\"v\",\"showlegend\":true,\"textposition\":\"auto\",\"type\":\"bar\",\"x\":[2,1],\"xaxis\":\"x\",\"y\":[5761772.0,98633.0],\"yaxis\":\"y\"}],                        {\"barmode\":\"relative\",\"legend\":{\"title\":{\"text\":\"variable\"},\"tracegroupgap\":0},\"margin\":{\"t\":60},\"template\":{\"data\":{\"bar\":[{\"error_x\":{\"color\":\"#2a3f5f\"},\"error_y\":{\"color\":\"#2a3f5f\"},\"marker\":{\"line\":{\"color\":\"#E5ECF6\",\"width\":0.5},\"pattern\":{\"fillmode\":\"overlay\",\"size\":10,\"solidity\":0.2}},\"type\":\"bar\"}],\"barpolar\":[{\"marker\":{\"line\":{\"color\":\"#E5ECF6\",\"width\":0.5},\"pattern\":{\"fillmode\":\"overlay\",\"size\":10,\"solidity\":0.2}},\"type\":\"barpolar\"}],\"carpet\":[{\"aaxis\":{\"endlinecolor\":\"#2a3f5f\",\"gridcolor\":\"white\",\"linecolor\":\"white\",\"minorgridcolor\":\"white\",\"startlinecolor\":\"#2a3f5f\"},\"baxis\":{\"endlinecolor\":\"#2a3f5f\",\"gridcolor\":\"white\",\"linecolor\":\"white\",\"minorgridcolor\":\"white\",\"startlinecolor\":\"#2a3f5f\"},\"type\":\"carpet\"}],\"choropleth\":[{\"colorbar\":{\"outlinewidth\":0,\"ticks\":\"\"},\"type\":\"choropleth\"}],\"contour\":[{\"colorbar\":{\"outlinewidth\":0,\"ticks\":\"\"},\"colorscale\":[[0.0,\"#0d0887\"],[0.1111111111111111,\"#46039f\"],[0.2222222222222222,\"#7201a8\"],[0.3333333333333333,\"#9c179e\"],[0.4444444444444444,\"#bd3786\"],[0.5555555555555556,\"#d8576b\"],[0.6666666666666666,\"#ed7953\"],[0.7777777777777778,\"#fb9f3a\"],[0.8888888888888888,\"#fdca26\"],[1.0,\"#f0f921\"]],\"type\":\"contour\"}],\"contourcarpet\":[{\"colorbar\":{\"outlinewidth\":0,\"ticks\":\"\"},\"type\":\"contourcarpet\"}],\"heatmap\":[{\"colorbar\":{\"outlinewidth\":0,\"ticks\":\"\"},\"colorscale\":[[0.0,\"#0d0887\"],[0.1111111111111111,\"#46039f\"],[0.2222222222222222,\"#7201a8\"],[0.3333333333333333,\"#9c179e\"],[0.4444444444444444,\"#bd3786\"],[0.5555555555555556,\"#d8576b\"],[0.6666666666666666,\"#ed7953\"],[0.7777777777777778,\"#fb9f3a\"],[0.8888888888888888,\"#fdca26\"],[1.0,\"#f0f921\"]],\"type\":\"heatmap\"}],\"heatmapgl\":[{\"colorbar\":{\"outlinewidth\":0,\"ticks\":\"\"},\"colorscale\":[[0.0,\"#0d0887\"],[0.1111111111111111,\"#46039f\"],[0.2222222222222222,\"#7201a8\"],[0.3333333333333333,\"#9c179e\"],[0.4444444444444444,\"#bd3786\"],[0.5555555555555556,\"#d8576b\"],[0.6666666666666666,\"#ed7953\"],[0.7777777777777778,\"#fb9f3a\"],[0.8888888888888888,\"#fdca26\"],[1.0,\"#f0f921\"]],\"type\":\"heatmapgl\"}],\"histogram\":[{\"marker\":{\"pattern\":{\"fillmode\":\"overlay\",\"size\":10,\"solidity\":0.2}},\"type\":\"histogram\"}],\"histogram2d\":[{\"colorbar\":{\"outlinewidth\":0,\"ticks\":\"\"},\"colorscale\":[[0.0,\"#0d0887\"],[0.1111111111111111,\"#46039f\"],[0.2222222222222222,\"#7201a8\"],[0.3333333333333333,\"#9c179e\"],[0.4444444444444444,\"#bd3786\"],[0.5555555555555556,\"#d8576b\"],[0.6666666666666666,\"#ed7953\"],[0.7777777777777778,\"#fb9f3a\"],[0.8888888888888888,\"#fdca26\"],[1.0,\"#f0f921\"]],\"type\":\"histogram2d\"}],\"histogram2dcontour\":[{\"colorbar\":{\"outlinewidth\":0,\"ticks\":\"\"},\"colorscale\":[[0.0,\"#0d0887\"],[0.1111111111111111,\"#46039f\"],[0.2222222222222222,\"#7201a8\"],[0.3333333333333333,\"#9c179e\"],[0.4444444444444444,\"#bd3786\"],[0.5555555555555556,\"#d8576b\"],[0.6666666666666666,\"#ed7953\"],[0.7777777777777778,\"#fb9f3a\"],[0.8888888888888888,\"#fdca26\"],[1.0,\"#f0f921\"]],\"type\":\"histogram2dcontour\"}],\"mesh3d\":[{\"colorbar\":{\"outlinewidth\":0,\"ticks\":\"\"},\"type\":\"mesh3d\"}],\"parcoords\":[{\"line\":{\"colorbar\":{\"outlinewidth\":0,\"ticks\":\"\"}},\"type\":\"parcoords\"}],\"pie\":[{\"automargin\":true,\"type\":\"pie\"}],\"scatter\":[{\"marker\":{\"colorbar\":{\"outlinewidth\":0,\"ticks\":\"\"}},\"type\":\"scatter\"}],\"scatter3d\":[{\"line\":{\"colorbar\":{\"outlinewidth\":0,\"ticks\":\"\"}},\"marker\":{\"colorbar\":{\"outlinewidth\":0,\"ticks\":\"\"}},\"type\":\"scatter3d\"}],\"scattercarpet\":[{\"marker\":{\"colorbar\":{\"outlinewidth\":0,\"ticks\":\"\"}},\"type\":\"scattercarpet\"}],\"scattergeo\":[{\"marker\":{\"colorbar\":{\"outlinewidth\":0,\"ticks\":\"\"}},\"type\":\"scattergeo\"}],\"scattergl\":[{\"marker\":{\"colorbar\":{\"outlinewidth\":0,\"ticks\":\"\"}},\"type\":\"scattergl\"}],\"scattermapbox\":[{\"marker\":{\"colorbar\":{\"outlinewidth\":0,\"ticks\":\"\"}},\"type\":\"scattermapbox\"}],\"scatterpolar\":[{\"marker\":{\"colorbar\":{\"outlinewidth\":0,\"ticks\":\"\"}},\"type\":\"scatterpolar\"}],\"scatterpolargl\":[{\"marker\":{\"colorbar\":{\"outlinewidth\":0,\"ticks\":\"\"}},\"type\":\"scatterpolargl\"}],\"scatterternary\":[{\"marker\":{\"colorbar\":{\"outlinewidth\":0,\"ticks\":\"\"}},\"type\":\"scatterternary\"}],\"surface\":[{\"colorbar\":{\"outlinewidth\":0,\"ticks\":\"\"},\"colorscale\":[[0.0,\"#0d0887\"],[0.1111111111111111,\"#46039f\"],[0.2222222222222222,\"#7201a8\"],[0.3333333333333333,\"#9c179e\"],[0.4444444444444444,\"#bd3786\"],[0.5555555555555556,\"#d8576b\"],[0.6666666666666666,\"#ed7953\"],[0.7777777777777778,\"#fb9f3a\"],[0.8888888888888888,\"#fdca26\"],[1.0,\"#f0f921\"]],\"type\":\"surface\"}],\"table\":[{\"cells\":{\"fill\":{\"color\":\"#EBF0F8\"},\"line\":{\"color\":\"white\"}},\"header\":{\"fill\":{\"color\":\"#C8D4E3\"},\"line\":{\"color\":\"white\"}},\"type\":\"table\"}]},\"layout\":{\"annotationdefaults\":{\"arrowcolor\":\"#2a3f5f\",\"arrowhead\":0,\"arrowwidth\":1},\"autotypenumbers\":\"strict\",\"coloraxis\":{\"colorbar\":{\"outlinewidth\":0,\"ticks\":\"\"}},\"colorscale\":{\"diverging\":[[0,\"#8e0152\"],[0.1,\"#c51b7d\"],[0.2,\"#de77ae\"],[0.3,\"#f1b6da\"],[0.4,\"#fde0ef\"],[0.5,\"#f7f7f7\"],[0.6,\"#e6f5d0\"],[0.7,\"#b8e186\"],[0.8,\"#7fbc41\"],[0.9,\"#4d9221\"],[1,\"#276419\"]],\"sequential\":[[0.0,\"#0d0887\"],[0.1111111111111111,\"#46039f\"],[0.2222222222222222,\"#7201a8\"],[0.3333333333333333,\"#9c179e\"],[0.4444444444444444,\"#bd3786\"],[0.5555555555555556,\"#d8576b\"],[0.6666666666666666,\"#ed7953\"],[0.7777777777777778,\"#fb9f3a\"],[0.8888888888888888,\"#fdca26\"],[1.0,\"#f0f921\"]],\"sequentialminus\":[[0.0,\"#0d0887\"],[0.1111111111111111,\"#46039f\"],[0.2222222222222222,\"#7201a8\"],[0.3333333333333333,\"#9c179e\"],[0.4444444444444444,\"#bd3786\"],[0.5555555555555556,\"#d8576b\"],[0.6666666666666666,\"#ed7953\"],[0.7777777777777778,\"#fb9f3a\"],[0.8888888888888888,\"#fdca26\"],[1.0,\"#f0f921\"]]},\"colorway\":[\"#636efa\",\"#EF553B\",\"#00cc96\",\"#ab63fa\",\"#FFA15A\",\"#19d3f3\",\"#FF6692\",\"#B6E880\",\"#FF97FF\",\"#FECB52\"],\"font\":{\"color\":\"#2a3f5f\"},\"geo\":{\"bgcolor\":\"white\",\"lakecolor\":\"white\",\"landcolor\":\"#E5ECF6\",\"showlakes\":true,\"showland\":true,\"subunitcolor\":\"white\"},\"hoverlabel\":{\"align\":\"left\"},\"hovermode\":\"closest\",\"mapbox\":{\"style\":\"light\"},\"paper_bgcolor\":\"white\",\"plot_bgcolor\":\"#E5ECF6\",\"polar\":{\"angularaxis\":{\"gridcolor\":\"white\",\"linecolor\":\"white\",\"ticks\":\"\"},\"bgcolor\":\"#E5ECF6\",\"radialaxis\":{\"gridcolor\":\"white\",\"linecolor\":\"white\",\"ticks\":\"\"}},\"scene\":{\"xaxis\":{\"backgroundcolor\":\"#E5ECF6\",\"gridcolor\":\"white\",\"gridwidth\":2,\"linecolor\":\"white\",\"showbackground\":true,\"ticks\":\"\",\"zerolinecolor\":\"white\"},\"yaxis\":{\"backgroundcolor\":\"#E5ECF6\",\"gridcolor\":\"white\",\"gridwidth\":2,\"linecolor\":\"white\",\"showbackground\":true,\"ticks\":\"\",\"zerolinecolor\":\"white\"},\"zaxis\":{\"backgroundcolor\":\"#E5ECF6\",\"gridcolor\":\"white\",\"gridwidth\":2,\"linecolor\":\"white\",\"showbackground\":true,\"ticks\":\"\",\"zerolinecolor\":\"white\"}},\"shapedefaults\":{\"line\":{\"color\":\"#2a3f5f\"}},\"ternary\":{\"aaxis\":{\"gridcolor\":\"white\",\"linecolor\":\"white\",\"ticks\":\"\"},\"baxis\":{\"gridcolor\":\"white\",\"linecolor\":\"white\",\"ticks\":\"\"},\"bgcolor\":\"#E5ECF6\",\"caxis\":{\"gridcolor\":\"white\",\"linecolor\":\"white\",\"ticks\":\"\"}},\"title\":{\"x\":0.05},\"xaxis\":{\"automargin\":true,\"gridcolor\":\"white\",\"linecolor\":\"white\",\"ticks\":\"\",\"title\":{\"standoff\":15},\"zerolinecolor\":\"white\",\"zerolinewidth\":2},\"yaxis\":{\"automargin\":true,\"gridcolor\":\"white\",\"linecolor\":\"white\",\"ticks\":\"\",\"title\":{\"standoff\":15},\"zerolinecolor\":\"white\",\"zerolinewidth\":2}}},\"xaxis\":{\"anchor\":\"y\",\"domain\":[0.0,1.0],\"title\":{\"text\":\"Values\"}},\"yaxis\":{\"anchor\":\"x\",\"domain\":[0.0,1.0],\"title\":{\"text\":\"value\"}}},                        {\"responsive\": true}                    ).then(function(){\n",
       "                            \n",
       "var gd = document.getElementById('7d8d6eb6-9951-468e-82f4-3a53dd69eaca');\n",
       "var x = new MutationObserver(function (mutations, observer) {{\n",
       "        var display = window.getComputedStyle(gd).display;\n",
       "        if (!display || display === 'none') {{\n",
       "            console.log([gd, 'removed!']);\n",
       "            Plotly.purge(gd);\n",
       "            observer.disconnect();\n",
       "        }}\n",
       "}});\n",
       "\n",
       "// Listen for the removal of the full notebook cells\n",
       "var notebookContainer = gd.closest('#notebook-container');\n",
       "if (notebookContainer) {{\n",
       "    x.observe(notebookContainer, {childList: true});\n",
       "}}\n",
       "\n",
       "// Listen for the clearing of the current output cell\n",
       "var outputEl = gd.closest('.output');\n",
       "if (outputEl) {{\n",
       "    x.observe(outputEl, {childList: true});\n",
       "}}\n",
       "\n",
       "                        })                };                });            </script>        </div>"
      ]
     },
     "metadata": {},
     "output_type": "display_data"
    }
   ],
   "source": [
    "#objetivo.reset_index(inplace=True)\n",
    "fig = px.bar(objetivo, x=\"Values\", y=['Porcentaje', 'Acc con Fatalidades'])\n",
    "fig.show();"
   ]
  },
  {
   "cell_type": "markdown",
   "metadata": {},
   "source": [
    "### Genero la variable a estimar (y)"
   ]
  },
  {
   "cell_type": "code",
   "execution_count": 52,
   "metadata": {},
   "outputs": [
    {
     "data": {
      "text/plain": [
       "0    5761772\n",
       "1      98633\n",
       "Name: Fatalities, dtype: int64"
      ]
     },
     "execution_count": 52,
     "metadata": {},
     "output_type": "execute_result"
    }
   ],
   "source": [
    "y = pd.get_dummies(data['C_SEV'])\n",
    "y.columns = ['Fatalities', 'No Fatalities']\n",
    "data['C_SEV'] = y['Fatalities']\n",
    "y = y['Fatalities']\n",
    "\n",
    "y.value_counts()"
   ]
  },
  {
   "cell_type": "markdown",
   "metadata": {},
   "source": [
    "### Observar cuantos valores missing (sin codificar)"
   ]
  },
  {
   "cell_type": "code",
   "execution_count": 53,
   "metadata": {},
   "outputs": [
    {
     "data": {
      "text/plain": [
       "C_VEHS    3\n",
       "C_YEAR    0\n",
       "V_ID      0\n",
       "P_SAFE    0\n",
       "P_PSN     0\n",
       "P_AGE     0\n",
       "P_SEX     0\n",
       "P_ID      0\n",
       "V_YEAR    0\n",
       "V_TYPE    0\n",
       "C_RALN    0\n",
       "C_MNTH    0\n",
       "C_RSUR    0\n",
       "C_WTHR    0\n",
       "C_RCFG    0\n",
       "C_CONF    0\n",
       "C_SEV     0\n",
       "C_HOUR    0\n",
       "C_WDAY    0\n",
       "P_USER    0\n",
       "dtype: int64"
      ]
     },
     "execution_count": 53,
     "metadata": {},
     "output_type": "execute_result"
    }
   ],
   "source": [
    "data.isnull().sum().sort_values(ascending=False)"
   ]
  },
  {
   "cell_type": "markdown",
   "metadata": {},
   "source": [
    "La variable 'C_VEHS' cuanta con la codificación para valores faltantes, rellenamos estos missing con el valor correspondiente"
   ]
  },
  {
   "cell_type": "code",
   "execution_count": 54,
   "metadata": {},
   "outputs": [],
   "source": [
    "data.C_VEHS.fillna('UU', inplace=True)"
   ]
  },
  {
   "cell_type": "code",
   "execution_count": 55,
   "metadata": {},
   "outputs": [
    {
     "data": {
      "text/plain": [
       "C_YEAR    0\n",
       "C_MNTH    0\n",
       "P_SAFE    0\n",
       "P_PSN     0\n",
       "P_AGE     0\n",
       "P_SEX     0\n",
       "P_ID      0\n",
       "V_YEAR    0\n",
       "V_TYPE    0\n",
       "V_ID      0\n",
       "C_RALN    0\n",
       "C_RSUR    0\n",
       "C_WTHR    0\n",
       "C_RCFG    0\n",
       "C_CONF    0\n",
       "C_VEHS    0\n",
       "C_SEV     0\n",
       "C_HOUR    0\n",
       "C_WDAY    0\n",
       "P_USER    0\n",
       "dtype: int64"
      ]
     },
     "execution_count": 55,
     "metadata": {},
     "output_type": "execute_result"
    }
   ],
   "source": [
    "data.isnull().sum().sort_values(ascending=False)"
   ]
  },
  {
   "cell_type": "markdown",
   "metadata": {},
   "source": [
    "## Tansformaciones de formato de las variables exógenas"
   ]
  },
  {
   "cell_type": "code",
   "execution_count": 56,
   "metadata": {},
   "outputs": [
    {
     "data": {
      "text/plain": [
       "Index(['C_YEAR', 'C_MNTH', 'C_WDAY', 'C_HOUR', 'C_SEV', 'C_VEHS', 'C_CONF',\n",
       "       'C_RCFG', 'C_WTHR', 'C_RSUR', 'C_RALN', 'V_ID', 'V_TYPE', 'V_YEAR',\n",
       "       'P_ID', 'P_SEX', 'P_AGE', 'P_PSN', 'P_SAFE', 'P_USER'],\n",
       "      dtype='object')"
      ]
     },
     "execution_count": 56,
     "metadata": {},
     "output_type": "execute_result"
    }
   ],
   "source": [
    "data.columns"
   ]
  },
  {
   "cell_type": "code",
   "execution_count": 58,
   "metadata": {},
   "outputs": [
    {
     "data": {
      "text/plain": [
       "['C_YEAR',\n",
       " 'C_MNTH',\n",
       " 'C_WDAY',\n",
       " 'C_HOUR',\n",
       " 'C_SEV',\n",
       " 'C_VEHS',\n",
       " 'C_CONF',\n",
       " 'C_RCFG',\n",
       " 'C_WTHR',\n",
       " 'C_RSUR',\n",
       " 'C_RALN']"
      ]
     },
     "execution_count": 58,
     "metadata": {},
     "output_type": "execute_result"
    }
   ],
   "source": [
    "collision_columns = [col for col in list(data.columns) if col[0]==\"C\"]\n",
    "collision_columns"
   ]
  },
  {
   "cell_type": "code",
   "execution_count": 13,
   "metadata": {},
   "outputs": [
    {
     "name": "stdout",
     "output_type": "stream",
     "text": [
      "<class 'pandas.core.frame.DataFrame'>\n",
      "RangeIndex: 5860405 entries, 0 to 5860404\n",
      "Data columns (total 18 columns):\n",
      " #   Column  Dtype \n",
      "---  ------  ----- \n",
      " 0   C_YEAR  int64 \n",
      " 1   C_MNTH  object\n",
      " 2   C_WDAY  object\n",
      " 3   C_HOUR  object\n",
      " 4   C_VEHS  object\n",
      " 5   C_CONF  object\n",
      " 6   C_RCFG  object\n",
      " 7   C_WTHR  object\n",
      " 8   C_RSUR  object\n",
      " 9   C_RALN  object\n",
      " 10  V_TYPE  object\n",
      " 11  V_YEAR  object\n",
      " 12  P_ID    object\n",
      " 13  P_SEX   object\n",
      " 14  P_AGE   object\n",
      " 15  P_PSN   object\n",
      " 16  P_SAFE  object\n",
      " 17  P_USER  object\n",
      "dtypes: int64(1), object(17)\n",
      "memory usage: 804.8+ MB\n"
     ]
    }
   ],
   "source": [
    "data.groupby(collision_columns).agg({'V_ID': 'max', 'P_ID': 'max'})"
   ]
  },
  {
   "cell_type": "markdown",
   "metadata": {},
   "source": [
    "### Variables Numericas"
   ]
  },
  {
   "cell_type": "code",
   "execution_count": 14,
   "metadata": {
    "scrolled": false
   },
   "outputs": [
    {
     "name": "stdout",
     "output_type": "stream",
     "text": [
      "Cantidad de observaciones en: C_MNTH\n",
      "\n",
      "08    0.093346\n",
      "07    0.091750\n",
      "12    0.089712\n",
      "06    0.088733\n",
      "10    0.088033\n",
      "09    0.087501\n",
      "01    0.085297\n",
      "11    0.085161\n",
      "05    0.079898\n",
      "02    0.072228\n",
      "03    0.071294\n",
      "04    0.066981\n",
      "UU    0.000066\n",
      "Name: C_MNTH, dtype: float64\n",
      "\n",
      "-------------------\n",
      "Cantidad de observaciones en: C_WDAY\n",
      "\n",
      "5    0.170590\n",
      "4    0.148395\n",
      "6    0.147974\n",
      "3    0.140871\n",
      "2    0.139285\n",
      "1    0.132416\n",
      "7    0.120244\n",
      "U    0.000226\n",
      "Name: C_WDAY, dtype: float64\n",
      "\n",
      "-------------------\n",
      "Cantidad de observaciones en: C_HOUR\n",
      "\n",
      "16    0.088663\n",
      "17    0.085353\n",
      "15    0.084080\n",
      "14    0.067801\n",
      "18    0.064143\n",
      "12    0.062842\n",
      "13    0.062677\n",
      "08    0.051675\n",
      "11    0.051518\n",
      "19    0.048096\n",
      "10    0.042486\n",
      "09    0.038841\n",
      "20    0.037075\n",
      "07    0.035486\n",
      "21    0.034864\n",
      "22    0.028134\n",
      "23    0.021790\n",
      "06    0.018102\n",
      "00    0.015098\n",
      "02    0.013224\n",
      "01    0.012522\n",
      "03    0.010927\n",
      "UU    0.010137\n",
      "05    0.007670\n",
      "04    0.006794\n",
      "Name: C_HOUR, dtype: float64\n",
      "\n",
      "-------------------\n",
      "Cantidad de observaciones en: C_VEHS\n",
      "\n",
      "02    0.616415\n",
      "01    0.213030\n",
      "03    0.126181\n",
      "04    0.031233\n",
      "05    0.007521\n",
      "06    0.002455\n",
      "07    0.000969\n",
      "08    0.000456\n",
      "09    0.000313\n",
      "10    0.000204\n",
      "11    0.000147\n",
      "12    0.000110\n",
      "14    0.000093\n",
      "UU    0.000093\n",
      "15    0.000081\n",
      "13    0.000071\n",
      "16    0.000048\n",
      "20    0.000045\n",
      "36    0.000043\n",
      "77    0.000039\n",
      "18    0.000031\n",
      "35    0.000030\n",
      "17    0.000030\n",
      "21    0.000024\n",
      "22    0.000023\n",
      "19    0.000021\n",
      "72    0.000021\n",
      "26    0.000020\n",
      "24    0.000019\n",
      "38    0.000018\n",
      "44    0.000017\n",
      "71    0.000016\n",
      "27    0.000015\n",
      "54    0.000015\n",
      "51    0.000014\n",
      "25    0.000011\n",
      "28    0.000011\n",
      "58    0.000010\n",
      "46    0.000010\n",
      "56    0.000010\n",
      "57    0.000010\n",
      "41    0.000009\n",
      "39    0.000008\n",
      "43    0.000008\n",
      "32    0.000007\n",
      "40    0.000007\n",
      "37    0.000007\n",
      "33    0.000007\n",
      "34    0.000006\n",
      "30    0.000006\n",
      "31    0.000005\n",
      "29    0.000005\n",
      "23    0.000004\n",
      "Name: C_VEHS, dtype: float64\n",
      "\n",
      "-------------------\n",
      "Cantidad de observaciones en: P_ID\n",
      "\n",
      "01    7.117099e-01\n",
      "02    1.934199e-01\n",
      "03    5.825672e-02\n",
      "04    2.250373e-02\n",
      "05    7.081934e-03\n",
      "          ...     \n",
      "75    3.412733e-07\n",
      "73    3.412733e-07\n",
      "94    1.706367e-07\n",
      "95    1.706367e-07\n",
      "99    1.706367e-07\n",
      "Name: P_ID, Length: 98, dtype: float64\n",
      "\n",
      "-------------------\n",
      "Cantidad de observaciones en: V_YEAR\n",
      "\n",
      "UUUU    5.530710e-02\n",
      "2000    5.514687e-02\n",
      "1998    5.039089e-02\n",
      "2002    5.008766e-02\n",
      "1999    4.908193e-02\n",
      "            ...     \n",
      "1907    3.412733e-07\n",
      "1904    3.412733e-07\n",
      "1909    3.412733e-07\n",
      "1910    1.706367e-07\n",
      "1906    1.706367e-07\n",
      "Name: V_YEAR, Length: 116, dtype: float64\n",
      "\n",
      "-------------------\n",
      "Cantidad de observaciones en: P_AGE\n",
      "\n",
      "UU    0.064354\n",
      "18    0.029302\n",
      "19    0.028619\n",
      "20    0.027088\n",
      "17    0.026988\n",
      "        ...   \n",
      "99    0.000055\n",
      "95    0.000050\n",
      "96    0.000034\n",
      "98    0.000033\n",
      "97    0.000019\n",
      "Name: P_AGE, Length: 101, dtype: float64\n",
      "\n",
      "-------------------\n",
      "Cantidad de observaciones en: C_YEAR\n",
      "\n",
      "2000    0.072021\n",
      "2002    0.071669\n",
      "1999    0.070560\n",
      "2001    0.069857\n",
      "2003    0.069455\n",
      "2004    0.066386\n",
      "2005    0.065946\n",
      "2006    0.064590\n",
      "2007    0.062881\n",
      "2008    0.057721\n",
      "2010    0.057087\n",
      "2009    0.056442\n",
      "2011    0.055483\n",
      "2012    0.055017\n",
      "2013    0.054102\n",
      "2014    0.050784\n",
      "Name: C_YEAR, dtype: float64\n",
      "\n",
      "-------------------\n"
     ]
    }
   ],
   "source": [
    "numerical_vars = ['C_MNTH', 'C_WDAY', 'C_HOUR', 'C_VEHS', 'P_ID', 'V_YEAR', 'P_AGE', 'C_YEAR'] \n",
    "\n",
    "for i in numerical_vars:\n",
    "    print(f'Cantidad de observaciones en: {str(X[[i]].columns.tolist()[0])}')\n",
    "    print('')\n",
    "    print(X[i].value_counts()/len(X))\n",
    "    #buscar que cuando haya algun U en el string, cuente en valores absolutos y relativos cuantos hay \n",
    "    print('')\n",
    "    print('-------------------')"
   ]
  },
  {
   "cell_type": "code",
   "execution_count": 15,
   "metadata": {
    "scrolled": false
   },
   "outputs": [
    {
     "data": {
      "image/png": "[encoded data removed]",
      "text/plain": [
       "<Figure size 1152x432 with 1 Axes>"
      ]
     },
     "metadata": {},
     "output_type": "display_data"
    },
    {
     "data": {
      "image/png": "[encoded data removed]",
      "text/plain": [
       "<Figure size 1152x432 with 1 Axes>"
      ]
     },
     "metadata": {},
     "output_type": "display_data"
    },
    {
     "data": {
      "image/png": "[encoded data removed]",
      "text/plain": [
       "<Figure size 1152x432 with 1 Axes>"
      ]
     },
     "metadata": {},
     "output_type": "display_data"
    },
    {
     "data": {
      "image/png": "[encoded data removed]",
      "text/plain": [
       "<Figure size 1152x432 with 1 Axes>"
      ]
     },
     "metadata": {},
     "output_type": "display_data"
    },
    {
     "data": {
      "image/png": "[encoded data removed]",
      "text/plain": [
       "<Figure size 1152x432 with 1 Axes>"
      ]
     },
     "metadata": {},
     "output_type": "display_data"
    },
    {
     "data": {
      "image/png": "[encoded data removed]",
      "text/plain": [
       "<Figure size 1152x432 with 1 Axes>"
      ]
     },
     "metadata": {},
     "output_type": "display_data"
    },
    {
     "data": {
      "image/png": "[encoded data removed]",
      "text/plain": [
       "<Figure size 1152x432 with 1 Axes>"
      ]
     },
     "metadata": {},
     "output_type": "display_data"
    },
    {
     "data": {
      "image/png": "[encoded data removed]",
      "text/plain": [
       "<Figure size 1152x432 with 1 Axes>"
      ]
     },
     "metadata": {},
     "output_type": "display_data"
    }
   ],
   "source": [
    "plt.rcParams[\"figure.figsize\"] = (16,6)\n",
    "for i in numerical_vars:\n",
    "    sns.countplot(x=i, data=X) \n",
    "    plt.xticks(rotation=90)\n",
    "    plt.show();"
   ]
  },
  {
   "cell_type": "code",
   "execution_count": 16,
   "metadata": {
    "scrolled": false
   },
   "outputs": [
    {
     "name": "stdout",
     "output_type": "stream",
     "text": [
      "\n",
      "Variable: C_MNTH\n",
      "\n",
      "Los valores desconocidos representan el 0.01% de los datos para esta variable\n",
      "\n",
      "Cuando la variable es desconocida, la distribución de la variable objetivo es:\n",
      "0    98.961\n",
      "1     1.039\n",
      "Name: C_SEV, dtype: float64\n",
      "\n",
      "Al ser desconocida la categoría C_MNTH, la probabilidad de ser un accidente fatal disminuye un 38.27% con respecto a la distribución de las fatalidades\n",
      "\n",
      "La cantidad de observaciones desconocidas es: 385\n",
      "La cantidad de observaciones no desconocidas es: 5860020\n",
      "------------------------------------------------------------------------------------------\n",
      "\n",
      "Variable: C_WDAY\n",
      "\n",
      "Los valores desconocidos representan el 0.02% de los datos para esta variable\n",
      "\n",
      "Cuando la variable es desconocida, la distribución de la variable objetivo es:\n",
      "0    99.0174\n",
      "1     0.9826\n",
      "Name: C_SEV, dtype: float64\n",
      "\n",
      "Al ser desconocida la categoría C_WDAY, la probabilidad de ser un accidente fatal disminuye un 41.62% con respecto a la distribución de las fatalidades\n",
      "\n",
      "La cantidad de observaciones desconocidas es: 1323\n",
      "La cantidad de observaciones no desconocidas es: 5859082\n",
      "------------------------------------------------------------------------------------------\n",
      "\n",
      "Variable: C_HOUR\n",
      "\n",
      "Los valores desconocidos representan el 1.01% de los datos para esta variable\n",
      "\n",
      "Cuando la variable es desconocida, la distribución de la variable objetivo es:\n",
      "0    98.1838\n",
      "1     1.8162\n",
      "Name: C_SEV, dtype: float64\n",
      "\n",
      "Al ser desconocida la categoría C_HOUR, la probabilidad de ser un accidente fatal aumenta un 7.91% con respecto a la distribución de las fatalidades\n",
      "\n",
      "La cantidad de observaciones desconocidas es: 59409\n",
      "La cantidad de observaciones no desconocidas es: 5800996\n",
      "------------------------------------------------------------------------------------------\n",
      "\n",
      "Variable: C_VEHS\n",
      "\n",
      "Los valores desconocidos representan el 0.01% de los datos para esta variable\n",
      "\n",
      "Cuando la variable es desconocida, la distribución de la variable objetivo es:\n",
      "0    97.0588\n",
      "1     2.9412\n",
      "Name: C_SEV, dtype: float64\n",
      "\n",
      "Al ser desconocida la categoría C_VEHS, la probabilidad de ser un accidente fatal aumenta un 74.75% con respecto a la distribución de las fatalidades\n",
      "\n",
      "La cantidad de observaciones desconocidas es: 544\n",
      "La cantidad de observaciones no desconocidas es: 5859861\n",
      "------------------------------------------------------------------------------------------\n",
      "\n",
      "Variable: P_ID\n",
      "\n",
      "Los valores desconocidos representan el 0.0% de los datos para esta variable\n",
      "\n",
      "Cuando la variable es desconocida, la distribución de la variable objetivo es:\n",
      "0    93.75\n",
      "1     6.25\n",
      "Name: C_SEV, dtype: float64\n",
      "\n",
      "Al ser desconocida la categoría P_ID, la probabilidad de ser un accidente fatal aumenta un 271.35% con respecto a la distribución de las fatalidades\n",
      "\n",
      "La cantidad de observaciones desconocidas es: 16\n",
      "La cantidad de observaciones no desconocidas es: 5860389\n",
      "------------------------------------------------------------------------------------------\n",
      "\n",
      "Variable: V_YEAR\n",
      "\n",
      "Los valores desconocidos representan el 5.53% de los datos para esta variable\n",
      "\n",
      "Cuando la variable es desconocida, la distribución de la variable objetivo es:\n",
      "0    98.4386\n",
      "1     1.5614\n",
      "Name: C_SEV, dtype: float64\n",
      "\n",
      "Al ser desconocida la categoría V_YEAR, la probabilidad de ser un accidente fatal disminuye un 7.22% con respecto a la distribución de las fatalidades\n",
      "\n",
      "La cantidad de observaciones desconocidas es: 324122\n",
      "La cantidad de observaciones no desconocidas es: 5536283\n",
      "------------------------------------------------------------------------------------------\n",
      "\n",
      "Variable: P_AGE\n",
      "\n",
      "Los valores desconocidos representan el 6.44% de los datos para esta variable\n",
      "\n",
      "Cuando la variable es desconocida, la distribución de la variable objetivo es:\n",
      "0    99.0004\n",
      "1     0.9996\n",
      "Name: C_SEV, dtype: float64\n",
      "\n",
      "Al ser desconocida la categoría P_AGE, la probabilidad de ser un accidente fatal disminuye un 40.61% con respecto a la distribución de las fatalidades\n",
      "\n",
      "La cantidad de observaciones desconocidas es: 377140\n",
      "La cantidad de observaciones no desconocidas es: 5483265\n",
      "------------------------------------------------------------------------------------------\n",
      "\n",
      "Variable: C_YEAR\n",
      "\n",
      "Los valores desconocidos representan el 0.0% de los datos para esta variable\n",
      "\n",
      "La variable no cuenta con observaiones nulas\n",
      "------------------------------------------------------------------------------------------\n"
     ]
    }
   ],
   "source": [
    "variables_dummies_num = []\n",
    "unknown = ['U', 'UU', 'UUU', 'UUUU']\n",
    "\n",
    "for i in numerical_vars:\n",
    "    \n",
    "    print('')\n",
    "    print('Variable:', i)\n",
    "    print('')\n",
    "    \n",
    "    print(f'Los valores desconocidos representan el {np.round(X[i].isin(unknown).sum()*100/len((X[i].isna())),2)}% de los datos para esta variable')\n",
    "    print('')\n",
    "    \n",
    "    if len(X[X[i].isin(unknown)]) == 0:\n",
    "        print('La variable no cuenta con observaiones nulas')\n",
    "    else:\n",
    "        print('Cuando la variable es desconocida, la distribución de la variable objetivo es:')\n",
    "        print(np.round(X[(X[i].isin(unknown))]['C_SEV'].value_counts()*100/len(X[(X[i].isin(unknown))]),4))\n",
    "    \n",
    "    \n",
    "    \n",
    "        proporcion_fallecidos = pd.DataFrame(X['C_SEV'].value_counts()/len(X))\n",
    "        proporcion_fallecidos.columns= ['Target']\n",
    "        proporcion_fallecidos['Missing'] = X[X[i].isin(unknown)]['C_SEV'].value_counts()/len(X[X[i].isin(unknown)])\n",
    "        proporcion_fallecidos['Difference'] = proporcion_fallecidos['Missing'] - proporcion_fallecidos.Target \n",
    "\n",
    "        result = np.round(proporcion_fallecidos.iloc[1].Difference*100/proporcion_fallecidos.iloc[1].Target, 2) \n",
    "        print('')\n",
    "        if result < 0:\n",
    "            print(f'Al ser desconocida la categoría {i}, la probabilidad de ser un accidente fatal disminuye un {np.abs(result)}% con respecto a la distribución de las fatalidades')\n",
    "        elif result > 0:\n",
    "            print(f'Al ser desconocida la categoría {i}, la probabilidad de ser un accidente fatal aumenta un {result}% con respecto a la distribución de las fatalidades')\n",
    "        elif result == np.nan:\n",
    "            pass\n",
    "\n",
    "        print('')\n",
    "        print('La cantidad de observaciones desconocidas es:', len(X[X[i].isin(unknown)]))\n",
    "        print('La cantidad de observaciones no desconocidas es:', len(X[~X[i].isin(unknown)]))\n",
    "\n",
    "    \n",
    "    if np.abs(result) > 10:\n",
    "        variables_dummies_num.append(i)\n",
    "    \n",
    "    print('------------------------------------------------------------------------------------------')"
   ]
  },
  {
   "cell_type": "code",
   "execution_count": 17,
   "metadata": {},
   "outputs": [
    {
     "name": "stdout",
     "output_type": "stream",
     "text": [
      "\n",
      "Variable: C_MNTH\n",
      "\n",
      "Los valores nulos representan el 0.0% de los datos para esta variable\n",
      "\n",
      "La variable no cuenta con observaiones nulas\n",
      "------------------------------------------------------------------------------------------\n",
      "\n",
      "Variable: C_WDAY\n",
      "\n",
      "Los valores nulos representan el 0.0% de los datos para esta variable\n",
      "\n",
      "La variable no cuenta con observaiones nulas\n",
      "------------------------------------------------------------------------------------------\n",
      "\n",
      "Variable: C_HOUR\n",
      "\n",
      "Los valores nulos representan el 0.0% de los datos para esta variable\n",
      "\n",
      "La variable no cuenta con observaiones nulas\n",
      "------------------------------------------------------------------------------------------\n",
      "\n",
      "Variable: C_VEHS\n",
      "\n",
      "Los valores nulos representan el 0.0% de los datos para esta variable\n",
      "\n",
      "La variable no cuenta con observaiones nulas\n",
      "------------------------------------------------------------------------------------------\n",
      "\n",
      "Variable: P_ID\n",
      "\n",
      "Los valores nulos representan el 0.19% de los datos para esta variable\n",
      "\n",
      "Cuando la variable es nula, la distribución de la variable objetivo es:\n",
      "0    98.2143\n",
      "1     1.7857\n",
      "Name: C_SEV, dtype: float64\n",
      "\n",
      "Al ser NA la categoría P_ID, la probabilidad de ser un accidente fatal aumenta un 6.1% con respecto a la distribución de las fatalidades\n",
      "\n",
      "La cantidad de observaciones nulas es: 10976\n",
      "La cantidad de observaciones no nulas es: 5849429\n",
      "------------------------------------------------------------------------------------------\n",
      "\n",
      "Variable: V_YEAR\n",
      "\n",
      "Los valores nulos representan el 4.44% de los datos para esta variable\n",
      "\n",
      "Cuando la variable es nula, la distribución de la variable objetivo es:\n",
      "0    97.3949\n",
      "1     2.6051\n",
      "Name: C_SEV, dtype: float64\n",
      "\n",
      "Al ser NA la categoría V_YEAR, la probabilidad de ser un accidente fatal aumenta un 54.79% con respecto a la distribución de las fatalidades\n",
      "\n",
      "La cantidad de observaciones nulas es: 260256\n",
      "La cantidad de observaciones no nulas es: 5600149\n",
      "------------------------------------------------------------------------------------------\n",
      "\n",
      "Variable: P_AGE\n",
      "\n",
      "Los valores nulos representan el 0.31% de los datos para esta variable\n",
      "\n",
      "Cuando la variable es nula, la distribución de la variable objetivo es:\n",
      "0    98.2294\n",
      "1     1.7706\n",
      "Name: C_SEV, dtype: float64\n",
      "\n",
      "Al ser NA la categoría P_AGE, la probabilidad de ser un accidente fatal aumenta un 5.21% con respecto a la distribución de las fatalidades\n",
      "\n",
      "La cantidad de observaciones nulas es: 18016\n",
      "La cantidad de observaciones no nulas es: 5842389\n",
      "------------------------------------------------------------------------------------------\n",
      "\n",
      "Variable: C_YEAR\n",
      "\n",
      "Los valores nulos representan el 0.0% de los datos para esta variable\n",
      "\n",
      "La variable no cuenta con observaiones nulas\n",
      "------------------------------------------------------------------------------------------\n"
     ]
    }
   ],
   "source": [
    "variables_dummies_num = []\n",
    "unknown = ['N', 'NN', 'NNN', 'NNNN']\n",
    "\n",
    "for i in numerical_vars:\n",
    "    \n",
    "    print('')\n",
    "    print('Variable:', i)\n",
    "    print('')\n",
    "    \n",
    "    print(f'Los valores nulos representan el {np.round(X[i].isin(unknown).sum()*100/len((X[i].isna())),2)}% de los datos para esta variable')\n",
    "    print('')\n",
    "    \n",
    "    if len(X[X[i].isin(unknown)]) == 0:\n",
    "        print('La variable no cuenta con observaiones nulas')\n",
    "    else:\n",
    "        print('Cuando la variable es nula, la distribución de la variable objetivo es:')\n",
    "        print(np.round(X[(X[i].isin(unknown))]['C_SEV'].value_counts()*100/len(X[(X[i].isin(unknown))]),4))\n",
    "    \n",
    "    \n",
    "    \n",
    "        proporcion_fallecidos = pd.DataFrame(X['C_SEV'].value_counts()/len(X))\n",
    "        proporcion_fallecidos.columns= ['Target']\n",
    "        proporcion_fallecidos['Missing'] = X[X[i].isin(unknown)]['C_SEV'].value_counts()/len(X[X[i].isin(unknown)])\n",
    "        proporcion_fallecidos['Difference'] = proporcion_fallecidos['Missing'] - proporcion_fallecidos.Target \n",
    "\n",
    "        result = np.round(proporcion_fallecidos.iloc[1].Difference*100/proporcion_fallecidos.iloc[1].Target, 2) \n",
    "        print('')\n",
    "        if result < 0:\n",
    "            print(f'Al ser NA la categoría {i}, la probabilidad de ser un accidente fatal disminuye un {np.abs(result)}% con respecto a la distribución de las fatalidades')\n",
    "        elif result > 0:\n",
    "            print(f'Al ser NA la categoría {i}, la probabilidad de ser un accidente fatal aumenta un {result}% con respecto a la distribución de las fatalidades')\n",
    "        elif result == np.nan:\n",
    "            pass\n",
    "\n",
    "        print('')\n",
    "        print('La cantidad de observaciones nulas es:', len(X[X[i].isin(unknown)]))\n",
    "        print('La cantidad de observaciones no nulas es:', len(X[~X[i].isin(unknown)]))\n",
    "\n",
    "    \n",
    "    if np.abs(result) > 10:\n",
    "        variables_dummies_num.append(i)\n",
    "    \n",
    "    print('------------------------------------------------------------------------------------------')"
   ]
  },
  {
   "cell_type": "code",
   "execution_count": 18,
   "metadata": {},
   "outputs": [],
   "source": [
    "unknown = ['N', 'NN', 'NNN', 'NNNN', 'U', 'UU', 'UUU', 'UUUU']\n",
    "for i in numerical_vars:\n",
    "    for j in unknown:\n",
    "        X[i + '_' + j] = np.where(X[i] == j, 1, 0)"
   ]
  },
  {
   "cell_type": "code",
   "execution_count": 19,
   "metadata": {},
   "outputs": [
    {
     "data": {
      "text/html": [
       "<div>\n",
       "<style scoped>\n",
       "    .dataframe tbody tr th:only-of-type {\n",
       "        vertical-align: middle;\n",
       "    }\n",
       "\n",
       "    .dataframe tbody tr th {\n",
       "        vertical-align: top;\n",
       "    }\n",
       "\n",
       "    .dataframe thead th {\n",
       "        text-align: right;\n",
       "    }\n",
       "</style>\n",
       "<table border=\"1\" class=\"dataframe\">\n",
       "  <thead>\n",
       "    <tr style=\"text-align: right;\">\n",
       "      <th></th>\n",
       "      <th>C_YEAR</th>\n",
       "      <th>C_MNTH</th>\n",
       "      <th>C_WDAY</th>\n",
       "      <th>C_HOUR</th>\n",
       "      <th>C_SEV</th>\n",
       "      <th>C_VEHS</th>\n",
       "      <th>C_CONF</th>\n",
       "      <th>C_RCFG</th>\n",
       "      <th>C_WTHR</th>\n",
       "      <th>C_RSUR</th>\n",
       "      <th>...</th>\n",
       "      <th>P_AGE_UUU</th>\n",
       "      <th>P_AGE_UUUU</th>\n",
       "      <th>C_YEAR_N</th>\n",
       "      <th>C_YEAR_NN</th>\n",
       "      <th>C_YEAR_NNN</th>\n",
       "      <th>C_YEAR_NNNN</th>\n",
       "      <th>C_YEAR_U</th>\n",
       "      <th>C_YEAR_UU</th>\n",
       "      <th>C_YEAR_UUU</th>\n",
       "      <th>C_YEAR_UUUU</th>\n",
       "    </tr>\n",
       "  </thead>\n",
       "  <tbody>\n",
       "    <tr>\n",
       "      <th>0</th>\n",
       "      <td>1999</td>\n",
       "      <td>01</td>\n",
       "      <td>1</td>\n",
       "      <td>20</td>\n",
       "      <td>0</td>\n",
       "      <td>02</td>\n",
       "      <td>34</td>\n",
       "      <td>UU</td>\n",
       "      <td>1</td>\n",
       "      <td>5</td>\n",
       "      <td>...</td>\n",
       "      <td>0</td>\n",
       "      <td>0</td>\n",
       "      <td>0</td>\n",
       "      <td>0</td>\n",
       "      <td>0</td>\n",
       "      <td>0</td>\n",
       "      <td>0</td>\n",
       "      <td>0</td>\n",
       "      <td>0</td>\n",
       "      <td>0</td>\n",
       "    </tr>\n",
       "    <tr>\n",
       "      <th>1</th>\n",
       "      <td>1999</td>\n",
       "      <td>01</td>\n",
       "      <td>1</td>\n",
       "      <td>20</td>\n",
       "      <td>0</td>\n",
       "      <td>02</td>\n",
       "      <td>34</td>\n",
       "      <td>UU</td>\n",
       "      <td>1</td>\n",
       "      <td>5</td>\n",
       "      <td>...</td>\n",
       "      <td>0</td>\n",
       "      <td>0</td>\n",
       "      <td>0</td>\n",
       "      <td>0</td>\n",
       "      <td>0</td>\n",
       "      <td>0</td>\n",
       "      <td>0</td>\n",
       "      <td>0</td>\n",
       "      <td>0</td>\n",
       "      <td>0</td>\n",
       "    </tr>\n",
       "    <tr>\n",
       "      <th>2</th>\n",
       "      <td>1999</td>\n",
       "      <td>01</td>\n",
       "      <td>1</td>\n",
       "      <td>20</td>\n",
       "      <td>0</td>\n",
       "      <td>02</td>\n",
       "      <td>34</td>\n",
       "      <td>UU</td>\n",
       "      <td>1</td>\n",
       "      <td>5</td>\n",
       "      <td>...</td>\n",
       "      <td>0</td>\n",
       "      <td>0</td>\n",
       "      <td>0</td>\n",
       "      <td>0</td>\n",
       "      <td>0</td>\n",
       "      <td>0</td>\n",
       "      <td>0</td>\n",
       "      <td>0</td>\n",
       "      <td>0</td>\n",
       "      <td>0</td>\n",
       "    </tr>\n",
       "    <tr>\n",
       "      <th>3</th>\n",
       "      <td>1999</td>\n",
       "      <td>01</td>\n",
       "      <td>1</td>\n",
       "      <td>08</td>\n",
       "      <td>0</td>\n",
       "      <td>01</td>\n",
       "      <td>01</td>\n",
       "      <td>UU</td>\n",
       "      <td>5</td>\n",
       "      <td>3</td>\n",
       "      <td>...</td>\n",
       "      <td>0</td>\n",
       "      <td>0</td>\n",
       "      <td>0</td>\n",
       "      <td>0</td>\n",
       "      <td>0</td>\n",
       "      <td>0</td>\n",
       "      <td>0</td>\n",
       "      <td>0</td>\n",
       "      <td>0</td>\n",
       "      <td>0</td>\n",
       "    </tr>\n",
       "    <tr>\n",
       "      <th>4</th>\n",
       "      <td>1999</td>\n",
       "      <td>01</td>\n",
       "      <td>1</td>\n",
       "      <td>08</td>\n",
       "      <td>0</td>\n",
       "      <td>01</td>\n",
       "      <td>01</td>\n",
       "      <td>UU</td>\n",
       "      <td>5</td>\n",
       "      <td>3</td>\n",
       "      <td>...</td>\n",
       "      <td>0</td>\n",
       "      <td>0</td>\n",
       "      <td>0</td>\n",
       "      <td>0</td>\n",
       "      <td>0</td>\n",
       "      <td>0</td>\n",
       "      <td>0</td>\n",
       "      <td>0</td>\n",
       "      <td>0</td>\n",
       "      <td>0</td>\n",
       "    </tr>\n",
       "  </tbody>\n",
       "</table>\n",
       "<p>5 rows × 83 columns</p>\n",
       "</div>"
      ],
      "text/plain": [
       "   C_YEAR C_MNTH C_WDAY C_HOUR  C_SEV C_VEHS C_CONF C_RCFG C_WTHR C_RSUR  ...  \\\n",
       "0    1999     01      1     20      0     02     34     UU      1      5  ...   \n",
       "1    1999     01      1     20      0     02     34     UU      1      5  ...   \n",
       "2    1999     01      1     20      0     02     34     UU      1      5  ...   \n",
       "3    1999     01      1     08      0     01     01     UU      5      3  ...   \n",
       "4    1999     01      1     08      0     01     01     UU      5      3  ...   \n",
       "\n",
       "  P_AGE_UUU P_AGE_UUUU C_YEAR_N C_YEAR_NN C_YEAR_NNN C_YEAR_NNNN C_YEAR_U  \\\n",
       "0         0          0        0         0          0           0        0   \n",
       "1         0          0        0         0          0           0        0   \n",
       "2         0          0        0         0          0           0        0   \n",
       "3         0          0        0         0          0           0        0   \n",
       "4         0          0        0         0          0           0        0   \n",
       "\n",
       "  C_YEAR_UU C_YEAR_UUU  C_YEAR_UUUU  \n",
       "0         0          0            0  \n",
       "1         0          0            0  \n",
       "2         0          0            0  \n",
       "3         0          0            0  \n",
       "4         0          0            0  \n",
       "\n",
       "[5 rows x 83 columns]"
      ]
     },
     "execution_count": 19,
     "metadata": {},
     "output_type": "execute_result"
    }
   ],
   "source": [
    "X.head()"
   ]
  },
  {
   "cell_type": "code",
   "execution_count": 20,
   "metadata": {},
   "outputs": [
    {
     "data": {
      "text/html": [
       "<div>\n",
       "<style scoped>\n",
       "    .dataframe tbody tr th:only-of-type {\n",
       "        vertical-align: middle;\n",
       "    }\n",
       "\n",
       "    .dataframe tbody tr th {\n",
       "        vertical-align: top;\n",
       "    }\n",
       "\n",
       "    .dataframe thead th {\n",
       "        text-align: right;\n",
       "    }\n",
       "</style>\n",
       "<table border=\"1\" class=\"dataframe\">\n",
       "  <thead>\n",
       "    <tr style=\"text-align: right;\">\n",
       "      <th></th>\n",
       "      <th>C_YEAR</th>\n",
       "      <th>C_MNTH</th>\n",
       "      <th>C_WDAY</th>\n",
       "      <th>C_HOUR</th>\n",
       "      <th>C_SEV</th>\n",
       "      <th>C_VEHS</th>\n",
       "      <th>C_CONF</th>\n",
       "      <th>C_RCFG</th>\n",
       "      <th>C_WTHR</th>\n",
       "      <th>C_RSUR</th>\n",
       "      <th>...</th>\n",
       "      <th>C_MNTH_UU</th>\n",
       "      <th>C_WDAY_U</th>\n",
       "      <th>C_HOUR_UU</th>\n",
       "      <th>C_VEHS_UU</th>\n",
       "      <th>P_ID_NN</th>\n",
       "      <th>P_ID_UU</th>\n",
       "      <th>V_YEAR_NNNN</th>\n",
       "      <th>V_YEAR_UUUU</th>\n",
       "      <th>P_AGE_NN</th>\n",
       "      <th>P_AGE_UU</th>\n",
       "    </tr>\n",
       "  </thead>\n",
       "  <tbody>\n",
       "    <tr>\n",
       "      <th>0</th>\n",
       "      <td>1999</td>\n",
       "      <td>01</td>\n",
       "      <td>1</td>\n",
       "      <td>20</td>\n",
       "      <td>0</td>\n",
       "      <td>02</td>\n",
       "      <td>34</td>\n",
       "      <td>UU</td>\n",
       "      <td>1</td>\n",
       "      <td>5</td>\n",
       "      <td>...</td>\n",
       "      <td>0</td>\n",
       "      <td>0</td>\n",
       "      <td>0</td>\n",
       "      <td>0</td>\n",
       "      <td>0</td>\n",
       "      <td>0</td>\n",
       "      <td>0</td>\n",
       "      <td>0</td>\n",
       "      <td>0</td>\n",
       "      <td>0</td>\n",
       "    </tr>\n",
       "    <tr>\n",
       "      <th>1</th>\n",
       "      <td>1999</td>\n",
       "      <td>01</td>\n",
       "      <td>1</td>\n",
       "      <td>20</td>\n",
       "      <td>0</td>\n",
       "      <td>02</td>\n",
       "      <td>34</td>\n",
       "      <td>UU</td>\n",
       "      <td>1</td>\n",
       "      <td>5</td>\n",
       "      <td>...</td>\n",
       "      <td>0</td>\n",
       "      <td>0</td>\n",
       "      <td>0</td>\n",
       "      <td>0</td>\n",
       "      <td>0</td>\n",
       "      <td>0</td>\n",
       "      <td>0</td>\n",
       "      <td>0</td>\n",
       "      <td>0</td>\n",
       "      <td>0</td>\n",
       "    </tr>\n",
       "    <tr>\n",
       "      <th>2</th>\n",
       "      <td>1999</td>\n",
       "      <td>01</td>\n",
       "      <td>1</td>\n",
       "      <td>20</td>\n",
       "      <td>0</td>\n",
       "      <td>02</td>\n",
       "      <td>34</td>\n",
       "      <td>UU</td>\n",
       "      <td>1</td>\n",
       "      <td>5</td>\n",
       "      <td>...</td>\n",
       "      <td>0</td>\n",
       "      <td>0</td>\n",
       "      <td>0</td>\n",
       "      <td>0</td>\n",
       "      <td>0</td>\n",
       "      <td>0</td>\n",
       "      <td>0</td>\n",
       "      <td>0</td>\n",
       "      <td>0</td>\n",
       "      <td>0</td>\n",
       "    </tr>\n",
       "    <tr>\n",
       "      <th>3</th>\n",
       "      <td>1999</td>\n",
       "      <td>01</td>\n",
       "      <td>1</td>\n",
       "      <td>08</td>\n",
       "      <td>0</td>\n",
       "      <td>01</td>\n",
       "      <td>01</td>\n",
       "      <td>UU</td>\n",
       "      <td>5</td>\n",
       "      <td>3</td>\n",
       "      <td>...</td>\n",
       "      <td>0</td>\n",
       "      <td>0</td>\n",
       "      <td>0</td>\n",
       "      <td>0</td>\n",
       "      <td>0</td>\n",
       "      <td>0</td>\n",
       "      <td>0</td>\n",
       "      <td>0</td>\n",
       "      <td>0</td>\n",
       "      <td>0</td>\n",
       "    </tr>\n",
       "    <tr>\n",
       "      <th>4</th>\n",
       "      <td>1999</td>\n",
       "      <td>01</td>\n",
       "      <td>1</td>\n",
       "      <td>08</td>\n",
       "      <td>0</td>\n",
       "      <td>01</td>\n",
       "      <td>01</td>\n",
       "      <td>UU</td>\n",
       "      <td>5</td>\n",
       "      <td>3</td>\n",
       "      <td>...</td>\n",
       "      <td>0</td>\n",
       "      <td>0</td>\n",
       "      <td>0</td>\n",
       "      <td>0</td>\n",
       "      <td>0</td>\n",
       "      <td>0</td>\n",
       "      <td>1</td>\n",
       "      <td>0</td>\n",
       "      <td>0</td>\n",
       "      <td>0</td>\n",
       "    </tr>\n",
       "  </tbody>\n",
       "</table>\n",
       "<p>5 rows × 29 columns</p>\n",
       "</div>"
      ],
      "text/plain": [
       "   C_YEAR C_MNTH C_WDAY C_HOUR  C_SEV C_VEHS C_CONF C_RCFG C_WTHR C_RSUR  ...  \\\n",
       "0    1999     01      1     20      0     02     34     UU      1      5  ...   \n",
       "1    1999     01      1     20      0     02     34     UU      1      5  ...   \n",
       "2    1999     01      1     20      0     02     34     UU      1      5  ...   \n",
       "3    1999     01      1     08      0     01     01     UU      5      3  ...   \n",
       "4    1999     01      1     08      0     01     01     UU      5      3  ...   \n",
       "\n",
       "  C_MNTH_UU C_WDAY_U C_HOUR_UU C_VEHS_UU P_ID_NN P_ID_UU V_YEAR_NNNN  \\\n",
       "0         0        0         0         0       0       0           0   \n",
       "1         0        0         0         0       0       0           0   \n",
       "2         0        0         0         0       0       0           0   \n",
       "3         0        0         0         0       0       0           0   \n",
       "4         0        0         0         0       0       0           1   \n",
       "\n",
       "  V_YEAR_UUUU P_AGE_NN  P_AGE_UU  \n",
       "0           0        0         0  \n",
       "1           0        0         0  \n",
       "2           0        0         0  \n",
       "3           0        0         0  \n",
       "4           0        0         0  \n",
       "\n",
       "[5 rows x 29 columns]"
      ]
     },
     "execution_count": 20,
     "metadata": {},
     "output_type": "execute_result"
    }
   ],
   "source": [
    "X = X.loc[:, (X != 0).any(axis=0)]\n",
    "X.head()"
   ]
  },
  {
   "cell_type": "code",
   "execution_count": 21,
   "metadata": {},
   "outputs": [],
   "source": [
    "for i in numerical_vars:\n",
    "    X[i] = pd.to_numeric(X[i], errors='coerce', downcast='integer')"
   ]
  },
  {
   "cell_type": "code",
   "execution_count": 22,
   "metadata": {},
   "outputs": [
    {
     "data": {
      "text/html": [
       "<div>\n",
       "<style scoped>\n",
       "    .dataframe tbody tr th:only-of-type {\n",
       "        vertical-align: middle;\n",
       "    }\n",
       "\n",
       "    .dataframe tbody tr th {\n",
       "        vertical-align: top;\n",
       "    }\n",
       "\n",
       "    .dataframe thead th {\n",
       "        text-align: right;\n",
       "    }\n",
       "</style>\n",
       "<table border=\"1\" class=\"dataframe\">\n",
       "  <thead>\n",
       "    <tr style=\"text-align: right;\">\n",
       "      <th></th>\n",
       "      <th>C_YEAR</th>\n",
       "      <th>C_MNTH</th>\n",
       "      <th>C_WDAY</th>\n",
       "      <th>C_HOUR</th>\n",
       "      <th>C_SEV</th>\n",
       "      <th>C_VEHS</th>\n",
       "      <th>C_CONF</th>\n",
       "      <th>C_RCFG</th>\n",
       "      <th>C_WTHR</th>\n",
       "      <th>C_RSUR</th>\n",
       "      <th>...</th>\n",
       "      <th>C_MNTH_UU</th>\n",
       "      <th>C_WDAY_U</th>\n",
       "      <th>C_HOUR_UU</th>\n",
       "      <th>C_VEHS_UU</th>\n",
       "      <th>P_ID_NN</th>\n",
       "      <th>P_ID_UU</th>\n",
       "      <th>V_YEAR_NNNN</th>\n",
       "      <th>V_YEAR_UUUU</th>\n",
       "      <th>P_AGE_NN</th>\n",
       "      <th>P_AGE_UU</th>\n",
       "    </tr>\n",
       "  </thead>\n",
       "  <tbody>\n",
       "    <tr>\n",
       "      <th>0</th>\n",
       "      <td>1999</td>\n",
       "      <td>1.0</td>\n",
       "      <td>1.0</td>\n",
       "      <td>20.0</td>\n",
       "      <td>0</td>\n",
       "      <td>2.0</td>\n",
       "      <td>34</td>\n",
       "      <td>UU</td>\n",
       "      <td>1</td>\n",
       "      <td>5</td>\n",
       "      <td>...</td>\n",
       "      <td>0</td>\n",
       "      <td>0</td>\n",
       "      <td>0</td>\n",
       "      <td>0</td>\n",
       "      <td>0</td>\n",
       "      <td>0</td>\n",
       "      <td>0</td>\n",
       "      <td>0</td>\n",
       "      <td>0</td>\n",
       "      <td>0</td>\n",
       "    </tr>\n",
       "    <tr>\n",
       "      <th>1</th>\n",
       "      <td>1999</td>\n",
       "      <td>1.0</td>\n",
       "      <td>1.0</td>\n",
       "      <td>20.0</td>\n",
       "      <td>0</td>\n",
       "      <td>2.0</td>\n",
       "      <td>34</td>\n",
       "      <td>UU</td>\n",
       "      <td>1</td>\n",
       "      <td>5</td>\n",
       "      <td>...</td>\n",
       "      <td>0</td>\n",
       "      <td>0</td>\n",
       "      <td>0</td>\n",
       "      <td>0</td>\n",
       "      <td>0</td>\n",
       "      <td>0</td>\n",
       "      <td>0</td>\n",
       "      <td>0</td>\n",
       "      <td>0</td>\n",
       "      <td>0</td>\n",
       "    </tr>\n",
       "    <tr>\n",
       "      <th>2</th>\n",
       "      <td>1999</td>\n",
       "      <td>1.0</td>\n",
       "      <td>1.0</td>\n",
       "      <td>20.0</td>\n",
       "      <td>0</td>\n",
       "      <td>2.0</td>\n",
       "      <td>34</td>\n",
       "      <td>UU</td>\n",
       "      <td>1</td>\n",
       "      <td>5</td>\n",
       "      <td>...</td>\n",
       "      <td>0</td>\n",
       "      <td>0</td>\n",
       "      <td>0</td>\n",
       "      <td>0</td>\n",
       "      <td>0</td>\n",
       "      <td>0</td>\n",
       "      <td>0</td>\n",
       "      <td>0</td>\n",
       "      <td>0</td>\n",
       "      <td>0</td>\n",
       "    </tr>\n",
       "    <tr>\n",
       "      <th>3</th>\n",
       "      <td>1999</td>\n",
       "      <td>1.0</td>\n",
       "      <td>1.0</td>\n",
       "      <td>8.0</td>\n",
       "      <td>0</td>\n",
       "      <td>1.0</td>\n",
       "      <td>01</td>\n",
       "      <td>UU</td>\n",
       "      <td>5</td>\n",
       "      <td>3</td>\n",
       "      <td>...</td>\n",
       "      <td>0</td>\n",
       "      <td>0</td>\n",
       "      <td>0</td>\n",
       "      <td>0</td>\n",
       "      <td>0</td>\n",
       "      <td>0</td>\n",
       "      <td>0</td>\n",
       "      <td>0</td>\n",
       "      <td>0</td>\n",
       "      <td>0</td>\n",
       "    </tr>\n",
       "    <tr>\n",
       "      <th>4</th>\n",
       "      <td>1999</td>\n",
       "      <td>1.0</td>\n",
       "      <td>1.0</td>\n",
       "      <td>8.0</td>\n",
       "      <td>0</td>\n",
       "      <td>1.0</td>\n",
       "      <td>01</td>\n",
       "      <td>UU</td>\n",
       "      <td>5</td>\n",
       "      <td>3</td>\n",
       "      <td>...</td>\n",
       "      <td>0</td>\n",
       "      <td>0</td>\n",
       "      <td>0</td>\n",
       "      <td>0</td>\n",
       "      <td>0</td>\n",
       "      <td>0</td>\n",
       "      <td>1</td>\n",
       "      <td>0</td>\n",
       "      <td>0</td>\n",
       "      <td>0</td>\n",
       "    </tr>\n",
       "  </tbody>\n",
       "</table>\n",
       "<p>5 rows × 29 columns</p>\n",
       "</div>"
      ],
      "text/plain": [
       "   C_YEAR  C_MNTH  C_WDAY  C_HOUR  C_SEV  C_VEHS C_CONF C_RCFG C_WTHR C_RSUR  \\\n",
       "0    1999     1.0     1.0    20.0      0     2.0     34     UU      1      5   \n",
       "1    1999     1.0     1.0    20.0      0     2.0     34     UU      1      5   \n",
       "2    1999     1.0     1.0    20.0      0     2.0     34     UU      1      5   \n",
       "3    1999     1.0     1.0     8.0      0     1.0     01     UU      5      3   \n",
       "4    1999     1.0     1.0     8.0      0     1.0     01     UU      5      3   \n",
       "\n",
       "   ... C_MNTH_UU C_WDAY_U  C_HOUR_UU  C_VEHS_UU P_ID_NN  P_ID_UU V_YEAR_NNNN  \\\n",
       "0  ...         0        0          0          0       0        0           0   \n",
       "1  ...         0        0          0          0       0        0           0   \n",
       "2  ...         0        0          0          0       0        0           0   \n",
       "3  ...         0        0          0          0       0        0           0   \n",
       "4  ...         0        0          0          0       0        0           1   \n",
       "\n",
       "  V_YEAR_UUUU P_AGE_NN  P_AGE_UU  \n",
       "0           0        0         0  \n",
       "1           0        0         0  \n",
       "2           0        0         0  \n",
       "3           0        0         0  \n",
       "4           0        0         0  \n",
       "\n",
       "[5 rows x 29 columns]"
      ]
     },
     "execution_count": 22,
     "metadata": {},
     "output_type": "execute_result"
    }
   ],
   "source": [
    "X.head()"
   ]
  },
  {
   "cell_type": "markdown",
   "metadata": {},
   "source": [
    "### Not numerical variables"
   ]
  },
  {
   "cell_type": "code",
   "execution_count": 23,
   "metadata": {},
   "outputs": [
    {
     "data": {
      "text/plain": [
       "['C_CONF',\n",
       " 'C_RCFG',\n",
       " 'C_WTHR',\n",
       " 'C_RSUR',\n",
       " 'C_RALN',\n",
       " 'V_TYPE',\n",
       " 'P_SEX',\n",
       " 'P_PSN',\n",
       " 'P_SAFE',\n",
       " 'P_USER']"
      ]
     },
     "execution_count": 23,
     "metadata": {},
     "output_type": "execute_result"
    }
   ],
   "source": [
    "categorical_vals = [c for c in X if c not in numerical_vars][1:11]\n",
    "categorical_vals"
   ]
  },
  {
   "cell_type": "code",
   "execution_count": 24,
   "metadata": {},
   "outputs": [
    {
     "name": "stdout",
     "output_type": "stream",
     "text": [
      "\n",
      "Variable: C_CONF\n",
      "\n",
      "Los valores nulos representan el 0.0% de los datos para esta variable\n",
      "\n",
      "La variable no cuenta con observaiones nulas\n",
      "------------------------------------------------------------------------------------------\n",
      "\n",
      "Variable: C_RCFG\n",
      "\n",
      "Los valores nulos representan el 0.0% de los datos para esta variable\n",
      "\n",
      "La variable no cuenta con observaiones nulas\n",
      "------------------------------------------------------------------------------------------\n",
      "\n",
      "Variable: C_WTHR\n",
      "\n",
      "Los valores nulos representan el 0.0% de los datos para esta variable\n",
      "\n",
      "La variable no cuenta con observaiones nulas\n",
      "------------------------------------------------------------------------------------------\n",
      "\n",
      "Variable: C_RSUR\n",
      "\n",
      "Los valores nulos representan el 0.0% de los datos para esta variable\n",
      "\n",
      "La variable no cuenta con observaiones nulas\n",
      "------------------------------------------------------------------------------------------\n",
      "\n",
      "Variable: C_RALN\n",
      "\n",
      "Los valores nulos representan el 0.0% de los datos para esta variable\n",
      "\n",
      "La variable no cuenta con observaiones nulas\n",
      "------------------------------------------------------------------------------------------\n",
      "\n",
      "Variable: V_TYPE\n",
      "\n",
      "Los valores nulos representan el 3.89% de los datos para esta variable\n",
      "\n",
      "Cuando la variable es nula, la distribución de la variable objetivo es:\n",
      "0    97.1353\n",
      "1     2.8647\n",
      "Name: C_SEV, dtype: float64\n",
      "\n",
      "Al ser NA la categoría V_TYPE, la probabilidad de ser un accidente fatal aumenta un 70.21% con respecto a la distribución de las fatalidades\n",
      "\n",
      "La cantidad de observaciones nulas es: 227913\n",
      "La cantidad de observaciones no nulas es: 5632492\n",
      "------------------------------------------------------------------------------------------\n",
      "\n",
      "Variable: P_SEX\n",
      "\n",
      "Los valores nulos representan el 0.25% de los datos para esta variable\n",
      "\n",
      "Cuando la variable es nula, la distribución de la variable objetivo es:\n",
      "0    98.086\n",
      "1     1.914\n",
      "Name: C_SEV, dtype: float64\n",
      "\n",
      "Al ser NA la categoría P_SEX, la probabilidad de ser un accidente fatal aumenta un 13.72% con respecto a la distribución de las fatalidades\n",
      "\n",
      "La cantidad de observaciones nulas es: 14786\n",
      "La cantidad de observaciones no nulas es: 5845619\n",
      "------------------------------------------------------------------------------------------\n",
      "\n",
      "Variable: P_PSN\n",
      "\n",
      "Los valores nulos representan el 0.24% de los datos para esta variable\n",
      "\n",
      "Cuando la variable es nula, la distribución de la variable objetivo es:\n",
      "0    97.958\n",
      "1     2.042\n",
      "Name: C_SEV, dtype: float64\n",
      "\n",
      "Al ser NA la categoría P_PSN, la probabilidad de ser un accidente fatal aumenta un 21.33% con respecto a la distribución de las fatalidades\n",
      "\n",
      "La cantidad de observaciones nulas es: 14153\n",
      "La cantidad de observaciones no nulas es: 5846252\n",
      "------------------------------------------------------------------------------------------\n",
      "\n",
      "Variable: P_SAFE\n",
      "\n",
      "Los valores nulos representan el 9.76% de los datos para esta variable\n",
      "\n",
      "Cuando la variable es nula, la distribución de la variable objetivo es:\n",
      "0    98.5644\n",
      "1     1.4356\n",
      "Name: C_SEV, dtype: float64\n",
      "\n",
      "Al ser NA la categoría P_SAFE, la probabilidad de ser un accidente fatal disminuye un 14.7% con respecto a la distribución de las fatalidades\n",
      "\n",
      "La cantidad de observaciones nulas es: 571946\n",
      "La cantidad de observaciones no nulas es: 5288459\n",
      "------------------------------------------------------------------------------------------\n",
      "\n",
      "Variable: P_USER\n",
      "\n",
      "Los valores nulos representan el 0.0% de los datos para esta variable\n",
      "\n",
      "La variable no cuenta con observaiones nulas\n",
      "------------------------------------------------------------------------------------------\n"
     ]
    }
   ],
   "source": [
    "variables_dummies_num = []\n",
    "unknown = ['N', 'NN', 'NNN', 'NNNN']\n",
    "\n",
    "for i in categorical_vals:\n",
    "    \n",
    "    print('')\n",
    "    print('Variable:', i)\n",
    "    print('')\n",
    "    \n",
    "    print(f'Los valores nulos representan el {np.round(X[i].isin(unknown).sum()*100/len((X[i].isna())),2)}% de los datos para esta variable')\n",
    "    print('')\n",
    "    \n",
    "    if len(X[X[i].isin(unknown)]) == 0:\n",
    "        print('La variable no cuenta con observaiones nulas')\n",
    "    else:\n",
    "        print('Cuando la variable es nula, la distribución de la variable objetivo es:')\n",
    "        print(np.round(X[(X[i].isin(unknown))]['C_SEV'].value_counts()*100/len(X[(X[i].isin(unknown))]),4))\n",
    "    \n",
    "    \n",
    "    \n",
    "        proporcion_fallecidos = pd.DataFrame(X['C_SEV'].value_counts()/len(X))\n",
    "        proporcion_fallecidos.columns= ['Target']\n",
    "        proporcion_fallecidos['Missing'] = X[X[i].isin(unknown)]['C_SEV'].value_counts()/len(X[X[i].isin(unknown)])\n",
    "        proporcion_fallecidos['Difference'] = proporcion_fallecidos['Missing'] - proporcion_fallecidos.Target \n",
    "\n",
    "        result = np.round(proporcion_fallecidos.iloc[1].Difference*100/proporcion_fallecidos.iloc[1].Target, 2) \n",
    "        print('')\n",
    "        if result < 0:\n",
    "            print(f'Al ser NA la categoría {i}, la probabilidad de ser un accidente fatal disminuye un {np.abs(result)}% con respecto a la distribución de las fatalidades')\n",
    "        elif result > 0:\n",
    "            print(f'Al ser NA la categoría {i}, la probabilidad de ser un accidente fatal aumenta un {result}% con respecto a la distribución de las fatalidades')\n",
    "        elif result == np.nan:\n",
    "            pass\n",
    "\n",
    "        print('')\n",
    "        print('La cantidad de observaciones nulas es:', len(X[X[i].isin(unknown)]))\n",
    "        print('La cantidad de observaciones no nulas es:', len(X[~X[i].isin(unknown)]))\n",
    "\n",
    "    \n",
    "    if np.abs(result) > 10:\n",
    "        variables_dummies_num.append(i)\n",
    "    \n",
    "    print('------------------------------------------------------------------------------------------')"
   ]
  },
  {
   "cell_type": "code",
   "execution_count": 25,
   "metadata": {
    "scrolled": false
   },
   "outputs": [
    {
     "name": "stdout",
     "output_type": "stream",
     "text": [
      "\n",
      "Variable: C_CONF\n",
      "\n",
      "Los valores desconocidos representan el 3.05% de los datos para esta variable\n",
      "\n",
      "Cuando la variable es desconocida, la distribución de la variable objetivo es:\n",
      "0    98.5873\n",
      "1     1.4127\n",
      "Name: C_SEV, dtype: float64\n",
      "\n",
      "Al ser desconocida la categoría C_CONF, la probabilidad de ser un accidente fatal disminuye un 16.06% con respecto a la distribución de las fatalidades\n",
      "\n",
      "La cantidad de observaciones desconocidas es: 179019\n",
      "La cantidad de observaciones no desconocidas es: 5681386\n",
      "------------------------------------------------------------------------------------------\n",
      "\n",
      "Variable: C_RCFG\n",
      "\n",
      "Los valores desconocidos representan el 8.61% de los datos para esta variable\n",
      "\n",
      "Cuando la variable es desconocida, la distribución de la variable objetivo es:\n",
      "0    98.8144\n",
      "1     1.1856\n",
      "Name: C_SEV, dtype: float64\n",
      "\n",
      "Al ser desconocida la categoría C_RCFG, la probabilidad de ser un accidente fatal disminuye un 29.56% con respecto a la distribución de las fatalidades\n",
      "\n",
      "La cantidad de observaciones desconocidas es: 504648\n",
      "La cantidad de observaciones no desconocidas es: 5355757\n",
      "------------------------------------------------------------------------------------------\n",
      "\n",
      "Variable: C_WTHR\n",
      "\n",
      "Los valores desconocidos representan el 1.5% de los datos para esta variable\n",
      "\n",
      "Cuando la variable es desconocida, la distribución de la variable objetivo es:\n",
      "0    99.11\n",
      "1     0.89\n",
      "Name: C_SEV, dtype: float64\n",
      "\n",
      "Al ser desconocida la categoría C_WTHR, la probabilidad de ser un accidente fatal disminuye un 47.12% con respecto a la distribución de las fatalidades\n",
      "\n",
      "La cantidad de observaciones desconocidas es: 87975\n",
      "La cantidad de observaciones no desconocidas es: 5772430\n",
      "------------------------------------------------------------------------------------------\n",
      "\n",
      "Variable: C_RSUR\n",
      "\n",
      "Los valores desconocidos representan el 1.34% de los datos para esta variable\n",
      "\n",
      "Cuando la variable es desconocida, la distribución de la variable objetivo es:\n",
      "0    98.9777\n",
      "1     1.0223\n",
      "Name: C_SEV, dtype: float64\n",
      "\n",
      "Al ser desconocida la categoría C_RSUR, la probabilidad de ser un accidente fatal disminuye un 39.26% con respecto a la distribución de las fatalidades\n",
      "\n",
      "La cantidad de observaciones desconocidas es: 78451\n",
      "La cantidad de observaciones no desconocidas es: 5781954\n",
      "------------------------------------------------------------------------------------------\n",
      "\n",
      "Variable: C_RALN\n",
      "\n",
      "Los valores desconocidos representan el 7.42% de los datos para esta variable\n",
      "\n",
      "Cuando la variable es desconocida, la distribución de la variable objetivo es:\n",
      "0    99.2505\n",
      "1     0.7495\n",
      "Name: C_SEV, dtype: float64\n",
      "\n",
      "Al ser desconocida la categoría C_RALN, la probabilidad de ser un accidente fatal disminuye un 55.47% con respecto a la distribución de las fatalidades\n",
      "\n",
      "La cantidad de observaciones desconocidas es: 434710\n",
      "La cantidad de observaciones no desconocidas es: 5425695\n",
      "------------------------------------------------------------------------------------------\n",
      "\n",
      "Variable: V_TYPE\n",
      "\n",
      "Los valores desconocidos representan el 0.51% de los datos para esta variable\n",
      "\n",
      "Cuando la variable es desconocida, la distribución de la variable objetivo es:\n",
      "0    98.7901\n",
      "1     1.2099\n",
      "Name: C_SEV, dtype: float64\n",
      "\n",
      "Al ser desconocida la categoría V_TYPE, la probabilidad de ser un accidente fatal disminuye un 28.11% con respecto a la distribución de las fatalidades\n",
      "\n",
      "La cantidad de observaciones desconocidas es: 29754\n",
      "La cantidad de observaciones no desconocidas es: 5830651\n",
      "------------------------------------------------------------------------------------------\n",
      "\n",
      "Variable: P_SEX\n",
      "\n",
      "Los valores desconocidos representan el 4.01% de los datos para esta variable\n",
      "\n",
      "Cuando la variable es desconocida, la distribución de la variable objetivo es:\n",
      "0    98.8883\n",
      "1     1.1117\n",
      "Name: C_SEV, dtype: float64\n",
      "\n",
      "Al ser desconocida la categoría P_SEX, la probabilidad de ser un accidente fatal disminuye un 33.95% con respecto a la distribución de las fatalidades\n",
      "\n",
      "La cantidad de observaciones desconocidas es: 234954\n",
      "La cantidad de observaciones no desconocidas es: 5625451\n",
      "------------------------------------------------------------------------------------------\n",
      "\n",
      "Variable: P_PSN\n",
      "\n",
      "Los valores desconocidos representan el 0.98% de los datos para esta variable\n",
      "\n",
      "Cuando la variable es desconocida, la distribución de la variable objetivo es:\n",
      "0    97.8773\n",
      "1     2.1227\n",
      "Name: C_SEV, dtype: float64\n",
      "\n",
      "Al ser desconocida la categoría P_PSN, la probabilidad de ser un accidente fatal aumenta un 26.12% con respecto a la distribución de las fatalidades\n",
      "\n",
      "La cantidad de observaciones desconocidas es: 57662\n",
      "La cantidad de observaciones no desconocidas es: 5802743\n",
      "------------------------------------------------------------------------------------------\n",
      "\n",
      "Variable: P_SAFE\n",
      "\n",
      "Los valores desconocidos representan el 10.5% de los datos para esta variable\n",
      "\n",
      "Cuando la variable es desconocida, la distribución de la variable objetivo es:\n",
      "0    98.0294\n",
      "1     1.9706\n",
      "Name: C_SEV, dtype: float64\n",
      "\n",
      "Al ser desconocida la categoría P_SAFE, la probabilidad de ser un accidente fatal aumenta un 17.09% con respecto a la distribución de las fatalidades\n",
      "\n",
      "La cantidad de observaciones desconocidas es: 615188\n",
      "La cantidad de observaciones no desconocidas es: 5245217\n",
      "------------------------------------------------------------------------------------------\n",
      "\n",
      "Variable: P_USER\n",
      "\n",
      "Los valores desconocidos representan el 3.0% de los datos para esta variable\n",
      "\n",
      "Cuando la variable es desconocida, la distribución de la variable objetivo es:\n",
      "0    97.5442\n",
      "1     2.4558\n",
      "Name: C_SEV, dtype: float64\n",
      "\n",
      "Al ser desconocida la categoría P_USER, la probabilidad de ser un accidente fatal aumenta un 45.91% con respecto a la distribución de las fatalidades\n",
      "\n",
      "La cantidad de observaciones desconocidas es: 175586\n",
      "La cantidad de observaciones no desconocidas es: 5684819\n",
      "------------------------------------------------------------------------------------------\n"
     ]
    }
   ],
   "source": [
    "variables_dummies_num = []\n",
    "unknown = ['U', 'UU', 'UUU', 'UUUU']\n",
    "\n",
    "for i in categorical_vals:\n",
    "    \n",
    "    print('')\n",
    "    print('Variable:', i)\n",
    "    print('')\n",
    "    \n",
    "    print(f'Los valores desconocidos representan el {np.round(X[i].isin(unknown).sum()*100/len((X[i].isna())),2)}% de los datos para esta variable')\n",
    "    print('')\n",
    "    \n",
    "    if len(X[X[i].isin(unknown)]) == 0:\n",
    "        print('La variable no cuenta con observaiones nulas')\n",
    "    else:\n",
    "        print('Cuando la variable es desconocida, la distribución de la variable objetivo es:')\n",
    "        print(np.round(X[(X[i].isin(unknown))]['C_SEV'].value_counts()*100/len(X[(X[i].isin(unknown))]),4))\n",
    "    \n",
    "    \n",
    "    \n",
    "        proporcion_fallecidos = pd.DataFrame(X['C_SEV'].value_counts()/len(X))\n",
    "        proporcion_fallecidos.columns= ['Target']\n",
    "        proporcion_fallecidos['Missing'] = X[X[i].isin(unknown)]['C_SEV'].value_counts()/len(X[X[i].isin(unknown)])\n",
    "        proporcion_fallecidos['Difference'] = proporcion_fallecidos['Missing'] - proporcion_fallecidos.Target \n",
    "\n",
    "        result = np.round(proporcion_fallecidos.iloc[1].Difference*100/proporcion_fallecidos.iloc[1].Target, 2) \n",
    "        print('')\n",
    "        if result < 0:\n",
    "            print(f'Al ser desconocida la categoría {i}, la probabilidad de ser un accidente fatal disminuye un {np.abs(result)}% con respecto a la distribución de las fatalidades')\n",
    "        elif result > 0:\n",
    "            print(f'Al ser desconocida la categoría {i}, la probabilidad de ser un accidente fatal aumenta un {result}% con respecto a la distribución de las fatalidades')\n",
    "        elif result == np.nan:\n",
    "            pass\n",
    "\n",
    "        print('')\n",
    "        print('La cantidad de observaciones desconocidas es:', len(X[X[i].isin(unknown)]))\n",
    "        print('La cantidad de observaciones no desconocidas es:', len(X[~X[i].isin(unknown)]))\n",
    "\n",
    "    \n",
    "    if np.abs(result) > 10:\n",
    "        variables_dummies_num.append(i)\n",
    "    \n",
    "    print('------------------------------------------------------------------------------------------')"
   ]
  },
  {
   "cell_type": "code",
   "execution_count": 26,
   "metadata": {},
   "outputs": [
    {
     "name": "stdout",
     "output_type": "stream",
     "text": [
      "\n",
      "Variable: C_CONF\n",
      "\n",
      "Los valores desconocidos representan el 4.86% de los datos para esta variable\n",
      "\n",
      "Cuando la variable es desconocida, la distribución de la variable objetivo es:\n",
      "0    98.1402\n",
      "1     1.8598\n",
      "Name: C_SEV, dtype: float64\n",
      "\n",
      "Al ser desconocida la categoría C_CONF, la probabilidad de ser un accidente fatal aumenta un 10.5% con respecto a la distribución de las fatalidades\n",
      "\n",
      "La cantidad de observaciones desconocidas es: 284980\n",
      "La cantidad de observaciones no desconocidas es: 5575425\n",
      "------------------------------------------------------------------------------------------\n",
      "\n",
      "Variable: C_RCFG\n",
      "\n",
      "Los valores desconocidos representan el 2.46% de los datos para esta variable\n",
      "\n",
      "Cuando la variable es desconocida, la distribución de la variable objetivo es:\n",
      "0    97.8711\n",
      "1     2.1289\n",
      "Name: C_SEV, dtype: float64\n",
      "\n",
      "Al ser desconocida la categoría C_RCFG, la probabilidad de ser un accidente fatal aumenta un 26.49% con respecto a la distribución de las fatalidades\n",
      "\n",
      "La cantidad de observaciones desconocidas es: 144298\n",
      "La cantidad de observaciones no desconocidas es: 5716107\n",
      "------------------------------------------------------------------------------------------\n",
      "\n",
      "Variable: C_WTHR\n",
      "\n",
      "Los valores desconocidos representan el 0.26% de los datos para esta variable\n",
      "\n",
      "Cuando la variable es desconocida, la distribución de la variable objetivo es:\n",
      "0    98.3348\n",
      "1     1.6652\n",
      "Name: C_SEV, dtype: float64\n",
      "\n",
      "Al ser desconocida la categoría C_WTHR, la probabilidad de ser un accidente fatal disminuye un 1.06% con respecto a la distribución de las fatalidades\n",
      "\n",
      "La cantidad de observaciones desconocidas es: 15013\n",
      "La cantidad de observaciones no desconocidas es: 5845392\n",
      "------------------------------------------------------------------------------------------\n",
      "\n",
      "Variable: C_RSUR\n",
      "\n",
      "Los valores desconocidos representan el 2.9% de los datos para esta variable\n",
      "\n",
      "Cuando la variable es desconocida, la distribución de la variable objetivo es:\n",
      "0    98.0243\n",
      "1     1.9757\n",
      "Name: C_SEV, dtype: float64\n",
      "\n",
      "Al ser desconocida la categoría C_RSUR, la probabilidad de ser un accidente fatal aumenta un 17.39% con respecto a la distribución de las fatalidades\n",
      "\n",
      "La cantidad de observaciones desconocidas es: 170217\n",
      "La cantidad de observaciones no desconocidas es: 5690188\n",
      "------------------------------------------------------------------------------------------\n",
      "\n",
      "Variable: C_RALN\n",
      "\n",
      "Los valores desconocidos representan el 0.49% de los datos para esta variable\n",
      "\n",
      "Cuando la variable es desconocida, la distribución de la variable objetivo es:\n",
      "0    98.9756\n",
      "1     1.0244\n",
      "Name: C_SEV, dtype: float64\n",
      "\n",
      "Al ser desconocida la categoría C_RALN, la probabilidad de ser un accidente fatal disminuye un 39.13% con respecto a la distribución de las fatalidades\n",
      "\n",
      "La cantidad de observaciones desconocidas es: 28602\n",
      "La cantidad de observaciones no desconocidas es: 5831803\n",
      "------------------------------------------------------------------------------------------\n",
      "\n",
      "Variable: V_TYPE\n",
      "\n",
      "Los valores desconocidos representan el 0.43% de los datos para esta variable\n",
      "\n",
      "Cuando la variable es desconocida, la distribución de la variable objetivo es:\n",
      "0    97.5869\n",
      "1     2.4131\n",
      "Name: C_SEV, dtype: float64\n",
      "\n",
      "Al ser desconocida la categoría V_TYPE, la probabilidad de ser un accidente fatal aumenta un 43.38% con respecto a la distribución de las fatalidades\n",
      "\n",
      "La cantidad de observaciones desconocidas es: 25444\n",
      "La cantidad de observaciones no desconocidas es: 5834961\n",
      "------------------------------------------------------------------------------------------\n",
      "\n",
      "Variable: P_SEX\n",
      "\n",
      "Los valores desconocidos representan el 0.0% de los datos para esta variable\n",
      "\n",
      "La variable no cuenta con observaiones nulas\n",
      "------------------------------------------------------------------------------------------\n",
      "\n",
      "Variable: P_PSN\n",
      "\n",
      "Los valores desconocidos representan el 0.44% de los datos para esta variable\n",
      "\n",
      "Cuando la variable es desconocida, la distribución de la variable objetivo es:\n",
      "0    97.1773\n",
      "1     2.8227\n",
      "Name: C_SEV, dtype: float64\n",
      "\n",
      "Al ser desconocida la categoría P_PSN, la probabilidad de ser un accidente fatal aumenta un 67.71% con respecto a la distribución de las fatalidades\n",
      "\n",
      "La cantidad de observaciones desconocidas es: 25862\n",
      "La cantidad de observaciones no desconocidas es: 5834543\n",
      "------------------------------------------------------------------------------------------\n",
      "\n",
      "Variable: P_SAFE\n",
      "\n",
      "Los valores desconocidos representan el 0.8% de los datos para esta variable\n",
      "\n",
      "Cuando la variable es desconocida, la distribución de la variable objetivo es:\n",
      "0    97.2301\n",
      "1     2.7699\n",
      "Name: C_SEV, dtype: float64\n",
      "\n",
      "Al ser desconocida la categoría P_SAFE, la probabilidad de ser un accidente fatal aumenta un 64.58% con respecto a la distribución de las fatalidades\n",
      "\n",
      "La cantidad de observaciones desconocidas es: 47150\n",
      "La cantidad de observaciones no desconocidas es: 5813255\n",
      "------------------------------------------------------------------------------------------\n",
      "\n",
      "Variable: P_USER\n",
      "\n",
      "Los valores desconocidos representan el 0.0% de los datos para esta variable\n",
      "\n",
      "La variable no cuenta con observaiones nulas\n",
      "------------------------------------------------------------------------------------------\n"
     ]
    }
   ],
   "source": [
    "variables_dummies_num = []\n",
    "unknown = ['Q','QQ','QQQ','QQQQ']\n",
    "\n",
    "for i in categorical_vals:\n",
    "    \n",
    "    print('')\n",
    "    print('Variable:', i)\n",
    "    print('')\n",
    "    \n",
    "    print(f'Los valores desconocidos representan el {np.round(X[i].isin(unknown).sum()*100/len((X[i].isna())),2)}% de los datos para esta variable')\n",
    "    print('')\n",
    "    \n",
    "    if len(X[X[i].isin(unknown)]) == 0:\n",
    "        print('La variable no cuenta con observaiones nulas')\n",
    "    else:\n",
    "        print('Cuando la variable es desconocida, la distribución de la variable objetivo es:')\n",
    "        print(np.round(X[(X[i].isin(unknown))]['C_SEV'].value_counts()*100/len(X[(X[i].isin(unknown))]),4))\n",
    "    \n",
    "    \n",
    "    \n",
    "        proporcion_fallecidos = pd.DataFrame(X['C_SEV'].value_counts()/len(X))\n",
    "        proporcion_fallecidos.columns= ['Target']\n",
    "        proporcion_fallecidos['Missing'] = X[X[i].isin(unknown)]['C_SEV'].value_counts()/len(X[X[i].isin(unknown)])\n",
    "        proporcion_fallecidos['Difference'] = proporcion_fallecidos['Missing'] - proporcion_fallecidos.Target \n",
    "\n",
    "        result = np.round(proporcion_fallecidos.iloc[1].Difference*100/proporcion_fallecidos.iloc[1].Target, 2) \n",
    "        print('')\n",
    "        if result < 0:\n",
    "            print(f'Al ser desconocida la categoría {i}, la probabilidad de ser un accidente fatal disminuye un {np.abs(result)}% con respecto a la distribución de las fatalidades')\n",
    "        elif result > 0:\n",
    "            print(f'Al ser desconocida la categoría {i}, la probabilidad de ser un accidente fatal aumenta un {result}% con respecto a la distribución de las fatalidades')\n",
    "        elif result == np.nan:\n",
    "            pass\n",
    "\n",
    "        print('')\n",
    "        print('La cantidad de observaciones desconocidas es:', len(X[X[i].isin(unknown)]))\n",
    "        print('La cantidad de observaciones no desconocidas es:', len(X[~X[i].isin(unknown)]))\n",
    "\n",
    "    \n",
    "    if np.abs(result) > 10:\n",
    "        variables_dummies_num.append(i)\n",
    "    \n",
    "    print('------------------------------------------------------------------------------------------')"
   ]
  },
  {
   "cell_type": "code",
   "execution_count": 27,
   "metadata": {},
   "outputs": [],
   "source": [
    "unknown = ['N', 'NN', 'NNN', 'NNNN', 'U', 'UU', 'UUU', 'UUUU', 'Q', 'QQ', 'QQQ', 'QQQQ']\n",
    "for i in categorical_vals:\n",
    "    for j in unknown:\n",
    "        X[i + '_' + j] = np.where(X[i] == j, 1, 0)"
   ]
  },
  {
   "cell_type": "code",
   "execution_count": 28,
   "metadata": {},
   "outputs": [
    {
     "data": {
      "text/html": [
       "<div>\n",
       "<style scoped>\n",
       "    .dataframe tbody tr th:only-of-type {\n",
       "        vertical-align: middle;\n",
       "    }\n",
       "\n",
       "    .dataframe tbody tr th {\n",
       "        vertical-align: top;\n",
       "    }\n",
       "\n",
       "    .dataframe thead th {\n",
       "        text-align: right;\n",
       "    }\n",
       "</style>\n",
       "<table border=\"1\" class=\"dataframe\">\n",
       "  <thead>\n",
       "    <tr style=\"text-align: right;\">\n",
       "      <th></th>\n",
       "      <th>C_YEAR</th>\n",
       "      <th>C_MNTH</th>\n",
       "      <th>C_WDAY</th>\n",
       "      <th>C_HOUR</th>\n",
       "      <th>C_SEV</th>\n",
       "      <th>C_VEHS</th>\n",
       "      <th>C_CONF</th>\n",
       "      <th>C_RCFG</th>\n",
       "      <th>C_WTHR</th>\n",
       "      <th>C_RSUR</th>\n",
       "      <th>...</th>\n",
       "      <th>P_USER_NNN</th>\n",
       "      <th>P_USER_NNNN</th>\n",
       "      <th>P_USER_U</th>\n",
       "      <th>P_USER_UU</th>\n",
       "      <th>P_USER_UUU</th>\n",
       "      <th>P_USER_UUUU</th>\n",
       "      <th>P_USER_Q</th>\n",
       "      <th>P_USER_QQ</th>\n",
       "      <th>P_USER_QQQ</th>\n",
       "      <th>P_USER_QQQQ</th>\n",
       "    </tr>\n",
       "  </thead>\n",
       "  <tbody>\n",
       "    <tr>\n",
       "      <th>0</th>\n",
       "      <td>1999</td>\n",
       "      <td>1.0</td>\n",
       "      <td>1.0</td>\n",
       "      <td>20.0</td>\n",
       "      <td>0</td>\n",
       "      <td>2.0</td>\n",
       "      <td>34</td>\n",
       "      <td>UU</td>\n",
       "      <td>1</td>\n",
       "      <td>5</td>\n",
       "      <td>...</td>\n",
       "      <td>0</td>\n",
       "      <td>0</td>\n",
       "      <td>0</td>\n",
       "      <td>0</td>\n",
       "      <td>0</td>\n",
       "      <td>0</td>\n",
       "      <td>0</td>\n",
       "      <td>0</td>\n",
       "      <td>0</td>\n",
       "      <td>0</td>\n",
       "    </tr>\n",
       "    <tr>\n",
       "      <th>1</th>\n",
       "      <td>1999</td>\n",
       "      <td>1.0</td>\n",
       "      <td>1.0</td>\n",
       "      <td>20.0</td>\n",
       "      <td>0</td>\n",
       "      <td>2.0</td>\n",
       "      <td>34</td>\n",
       "      <td>UU</td>\n",
       "      <td>1</td>\n",
       "      <td>5</td>\n",
       "      <td>...</td>\n",
       "      <td>0</td>\n",
       "      <td>0</td>\n",
       "      <td>0</td>\n",
       "      <td>0</td>\n",
       "      <td>0</td>\n",
       "      <td>0</td>\n",
       "      <td>0</td>\n",
       "      <td>0</td>\n",
       "      <td>0</td>\n",
       "      <td>0</td>\n",
       "    </tr>\n",
       "    <tr>\n",
       "      <th>2</th>\n",
       "      <td>1999</td>\n",
       "      <td>1.0</td>\n",
       "      <td>1.0</td>\n",
       "      <td>20.0</td>\n",
       "      <td>0</td>\n",
       "      <td>2.0</td>\n",
       "      <td>34</td>\n",
       "      <td>UU</td>\n",
       "      <td>1</td>\n",
       "      <td>5</td>\n",
       "      <td>...</td>\n",
       "      <td>0</td>\n",
       "      <td>0</td>\n",
       "      <td>0</td>\n",
       "      <td>0</td>\n",
       "      <td>0</td>\n",
       "      <td>0</td>\n",
       "      <td>0</td>\n",
       "      <td>0</td>\n",
       "      <td>0</td>\n",
       "      <td>0</td>\n",
       "    </tr>\n",
       "    <tr>\n",
       "      <th>3</th>\n",
       "      <td>1999</td>\n",
       "      <td>1.0</td>\n",
       "      <td>1.0</td>\n",
       "      <td>8.0</td>\n",
       "      <td>0</td>\n",
       "      <td>1.0</td>\n",
       "      <td>01</td>\n",
       "      <td>UU</td>\n",
       "      <td>5</td>\n",
       "      <td>3</td>\n",
       "      <td>...</td>\n",
       "      <td>0</td>\n",
       "      <td>0</td>\n",
       "      <td>0</td>\n",
       "      <td>0</td>\n",
       "      <td>0</td>\n",
       "      <td>0</td>\n",
       "      <td>0</td>\n",
       "      <td>0</td>\n",
       "      <td>0</td>\n",
       "      <td>0</td>\n",
       "    </tr>\n",
       "    <tr>\n",
       "      <th>4</th>\n",
       "      <td>1999</td>\n",
       "      <td>1.0</td>\n",
       "      <td>1.0</td>\n",
       "      <td>8.0</td>\n",
       "      <td>0</td>\n",
       "      <td>1.0</td>\n",
       "      <td>01</td>\n",
       "      <td>UU</td>\n",
       "      <td>5</td>\n",
       "      <td>3</td>\n",
       "      <td>...</td>\n",
       "      <td>0</td>\n",
       "      <td>0</td>\n",
       "      <td>0</td>\n",
       "      <td>0</td>\n",
       "      <td>0</td>\n",
       "      <td>0</td>\n",
       "      <td>0</td>\n",
       "      <td>0</td>\n",
       "      <td>0</td>\n",
       "      <td>0</td>\n",
       "    </tr>\n",
       "  </tbody>\n",
       "</table>\n",
       "<p>5 rows × 149 columns</p>\n",
       "</div>"
      ],
      "text/plain": [
       "   C_YEAR  C_MNTH  C_WDAY  C_HOUR  C_SEV  C_VEHS C_CONF C_RCFG C_WTHR C_RSUR  \\\n",
       "0    1999     1.0     1.0    20.0      0     2.0     34     UU      1      5   \n",
       "1    1999     1.0     1.0    20.0      0     2.0     34     UU      1      5   \n",
       "2    1999     1.0     1.0    20.0      0     2.0     34     UU      1      5   \n",
       "3    1999     1.0     1.0     8.0      0     1.0     01     UU      5      3   \n",
       "4    1999     1.0     1.0     8.0      0     1.0     01     UU      5      3   \n",
       "\n",
       "   ... P_USER_NNN P_USER_NNNN  P_USER_U  P_USER_UU P_USER_UUU  P_USER_UUUU  \\\n",
       "0  ...          0           0         0          0          0            0   \n",
       "1  ...          0           0         0          0          0            0   \n",
       "2  ...          0           0         0          0          0            0   \n",
       "3  ...          0           0         0          0          0            0   \n",
       "4  ...          0           0         0          0          0            0   \n",
       "\n",
       "  P_USER_Q P_USER_QQ P_USER_QQQ  P_USER_QQQQ  \n",
       "0        0         0          0            0  \n",
       "1        0         0          0            0  \n",
       "2        0         0          0            0  \n",
       "3        0         0          0            0  \n",
       "4        0         0          0            0  \n",
       "\n",
       "[5 rows x 149 columns]"
      ]
     },
     "execution_count": 28,
     "metadata": {},
     "output_type": "execute_result"
    }
   ],
   "source": [
    "X.head()"
   ]
  },
  {
   "cell_type": "code",
   "execution_count": 29,
   "metadata": {},
   "outputs": [
    {
     "data": {
      "text/html": [
       "<div>\n",
       "<style scoped>\n",
       "    .dataframe tbody tr th:only-of-type {\n",
       "        vertical-align: middle;\n",
       "    }\n",
       "\n",
       "    .dataframe tbody tr th {\n",
       "        vertical-align: top;\n",
       "    }\n",
       "\n",
       "    .dataframe thead th {\n",
       "        text-align: right;\n",
       "    }\n",
       "</style>\n",
       "<table border=\"1\" class=\"dataframe\">\n",
       "  <thead>\n",
       "    <tr style=\"text-align: right;\">\n",
       "      <th></th>\n",
       "      <th>C_YEAR</th>\n",
       "      <th>C_MNTH</th>\n",
       "      <th>C_WDAY</th>\n",
       "      <th>C_HOUR</th>\n",
       "      <th>C_SEV</th>\n",
       "      <th>C_VEHS</th>\n",
       "      <th>C_CONF</th>\n",
       "      <th>C_RCFG</th>\n",
       "      <th>C_WTHR</th>\n",
       "      <th>C_RSUR</th>\n",
       "      <th>...</th>\n",
       "      <th>V_TYPE_QQ</th>\n",
       "      <th>P_SEX_N</th>\n",
       "      <th>P_SEX_U</th>\n",
       "      <th>P_PSN_NN</th>\n",
       "      <th>P_PSN_UU</th>\n",
       "      <th>P_PSN_QQ</th>\n",
       "      <th>P_SAFE_NN</th>\n",
       "      <th>P_SAFE_UU</th>\n",
       "      <th>P_SAFE_QQ</th>\n",
       "      <th>P_USER_U</th>\n",
       "    </tr>\n",
       "  </thead>\n",
       "  <tbody>\n",
       "    <tr>\n",
       "      <th>0</th>\n",
       "      <td>1999</td>\n",
       "      <td>1.0</td>\n",
       "      <td>1.0</td>\n",
       "      <td>20.0</td>\n",
       "      <td>0</td>\n",
       "      <td>2.0</td>\n",
       "      <td>34</td>\n",
       "      <td>UU</td>\n",
       "      <td>1</td>\n",
       "      <td>5</td>\n",
       "      <td>...</td>\n",
       "      <td>0</td>\n",
       "      <td>0</td>\n",
       "      <td>0</td>\n",
       "      <td>0</td>\n",
       "      <td>0</td>\n",
       "      <td>0</td>\n",
       "      <td>0</td>\n",
       "      <td>1</td>\n",
       "      <td>0</td>\n",
       "      <td>0</td>\n",
       "    </tr>\n",
       "    <tr>\n",
       "      <th>1</th>\n",
       "      <td>1999</td>\n",
       "      <td>1.0</td>\n",
       "      <td>1.0</td>\n",
       "      <td>20.0</td>\n",
       "      <td>0</td>\n",
       "      <td>2.0</td>\n",
       "      <td>34</td>\n",
       "      <td>UU</td>\n",
       "      <td>1</td>\n",
       "      <td>5</td>\n",
       "      <td>...</td>\n",
       "      <td>0</td>\n",
       "      <td>0</td>\n",
       "      <td>0</td>\n",
       "      <td>0</td>\n",
       "      <td>0</td>\n",
       "      <td>0</td>\n",
       "      <td>0</td>\n",
       "      <td>1</td>\n",
       "      <td>0</td>\n",
       "      <td>0</td>\n",
       "    </tr>\n",
       "    <tr>\n",
       "      <th>2</th>\n",
       "      <td>1999</td>\n",
       "      <td>1.0</td>\n",
       "      <td>1.0</td>\n",
       "      <td>20.0</td>\n",
       "      <td>0</td>\n",
       "      <td>2.0</td>\n",
       "      <td>34</td>\n",
       "      <td>UU</td>\n",
       "      <td>1</td>\n",
       "      <td>5</td>\n",
       "      <td>...</td>\n",
       "      <td>0</td>\n",
       "      <td>0</td>\n",
       "      <td>0</td>\n",
       "      <td>0</td>\n",
       "      <td>0</td>\n",
       "      <td>0</td>\n",
       "      <td>0</td>\n",
       "      <td>0</td>\n",
       "      <td>0</td>\n",
       "      <td>0</td>\n",
       "    </tr>\n",
       "    <tr>\n",
       "      <th>3</th>\n",
       "      <td>1999</td>\n",
       "      <td>1.0</td>\n",
       "      <td>1.0</td>\n",
       "      <td>8.0</td>\n",
       "      <td>0</td>\n",
       "      <td>1.0</td>\n",
       "      <td>01</td>\n",
       "      <td>UU</td>\n",
       "      <td>5</td>\n",
       "      <td>3</td>\n",
       "      <td>...</td>\n",
       "      <td>0</td>\n",
       "      <td>0</td>\n",
       "      <td>0</td>\n",
       "      <td>0</td>\n",
       "      <td>0</td>\n",
       "      <td>0</td>\n",
       "      <td>0</td>\n",
       "      <td>1</td>\n",
       "      <td>0</td>\n",
       "      <td>0</td>\n",
       "    </tr>\n",
       "    <tr>\n",
       "      <th>4</th>\n",
       "      <td>1999</td>\n",
       "      <td>1.0</td>\n",
       "      <td>1.0</td>\n",
       "      <td>8.0</td>\n",
       "      <td>0</td>\n",
       "      <td>1.0</td>\n",
       "      <td>01</td>\n",
       "      <td>UU</td>\n",
       "      <td>5</td>\n",
       "      <td>3</td>\n",
       "      <td>...</td>\n",
       "      <td>0</td>\n",
       "      <td>0</td>\n",
       "      <td>0</td>\n",
       "      <td>0</td>\n",
       "      <td>0</td>\n",
       "      <td>0</td>\n",
       "      <td>0</td>\n",
       "      <td>1</td>\n",
       "      <td>0</td>\n",
       "      <td>0</td>\n",
       "    </tr>\n",
       "  </tbody>\n",
       "</table>\n",
       "<p>5 rows × 51 columns</p>\n",
       "</div>"
      ],
      "text/plain": [
       "   C_YEAR  C_MNTH  C_WDAY  C_HOUR  C_SEV  C_VEHS C_CONF C_RCFG C_WTHR C_RSUR  \\\n",
       "0    1999     1.0     1.0    20.0      0     2.0     34     UU      1      5   \n",
       "1    1999     1.0     1.0    20.0      0     2.0     34     UU      1      5   \n",
       "2    1999     1.0     1.0    20.0      0     2.0     34     UU      1      5   \n",
       "3    1999     1.0     1.0     8.0      0     1.0     01     UU      5      3   \n",
       "4    1999     1.0     1.0     8.0      0     1.0     01     UU      5      3   \n",
       "\n",
       "   ... V_TYPE_QQ P_SEX_N  P_SEX_U  P_PSN_NN P_PSN_UU  P_PSN_QQ P_SAFE_NN  \\\n",
       "0  ...         0       0        0         0        0         0         0   \n",
       "1  ...         0       0        0         0        0         0         0   \n",
       "2  ...         0       0        0         0        0         0         0   \n",
       "3  ...         0       0        0         0        0         0         0   \n",
       "4  ...         0       0        0         0        0         0         0   \n",
       "\n",
       "  P_SAFE_UU P_SAFE_QQ  P_USER_U  \n",
       "0         1         0         0  \n",
       "1         1         0         0  \n",
       "2         0         0         0  \n",
       "3         1         0         0  \n",
       "4         1         0         0  \n",
       "\n",
       "[5 rows x 51 columns]"
      ]
     },
     "execution_count": 29,
     "metadata": {},
     "output_type": "execute_result"
    }
   ],
   "source": [
    "X = X.loc[:, (X != 0).any(axis=0)]\n",
    "X.head()"
   ]
  },
  {
   "cell_type": "code",
   "execution_count": 30,
   "metadata": {},
   "outputs": [
    {
     "data": {
      "text/html": [
       "<div>\n",
       "<style scoped>\n",
       "    .dataframe tbody tr th:only-of-type {\n",
       "        vertical-align: middle;\n",
       "    }\n",
       "\n",
       "    .dataframe tbody tr th {\n",
       "        vertical-align: top;\n",
       "    }\n",
       "\n",
       "    .dataframe thead th {\n",
       "        text-align: right;\n",
       "    }\n",
       "</style>\n",
       "<table border=\"1\" class=\"dataframe\">\n",
       "  <thead>\n",
       "    <tr style=\"text-align: right;\">\n",
       "      <th></th>\n",
       "      <th>C_YEAR</th>\n",
       "      <th>C_MNTH</th>\n",
       "      <th>C_WDAY</th>\n",
       "      <th>C_HOUR</th>\n",
       "      <th>C_SEV</th>\n",
       "      <th>C_VEHS</th>\n",
       "      <th>C_CONF</th>\n",
       "      <th>C_RCFG</th>\n",
       "      <th>C_WTHR</th>\n",
       "      <th>C_RSUR</th>\n",
       "      <th>...</th>\n",
       "      <th>V_TYPE_QQ</th>\n",
       "      <th>P_SEX_N</th>\n",
       "      <th>P_SEX_U</th>\n",
       "      <th>P_PSN_NN</th>\n",
       "      <th>P_PSN_UU</th>\n",
       "      <th>P_PSN_QQ</th>\n",
       "      <th>P_SAFE_NN</th>\n",
       "      <th>P_SAFE_UU</th>\n",
       "      <th>P_SAFE_QQ</th>\n",
       "      <th>P_USER_U</th>\n",
       "    </tr>\n",
       "  </thead>\n",
       "  <tbody>\n",
       "    <tr>\n",
       "      <th>0</th>\n",
       "      <td>1999</td>\n",
       "      <td>1.0</td>\n",
       "      <td>1.0</td>\n",
       "      <td>20.0</td>\n",
       "      <td>0</td>\n",
       "      <td>2.0</td>\n",
       "      <td>34</td>\n",
       "      <td>NaN</td>\n",
       "      <td>1</td>\n",
       "      <td>5</td>\n",
       "      <td>...</td>\n",
       "      <td>0</td>\n",
       "      <td>0</td>\n",
       "      <td>0</td>\n",
       "      <td>0</td>\n",
       "      <td>0</td>\n",
       "      <td>0</td>\n",
       "      <td>0</td>\n",
       "      <td>1</td>\n",
       "      <td>0</td>\n",
       "      <td>0</td>\n",
       "    </tr>\n",
       "    <tr>\n",
       "      <th>1</th>\n",
       "      <td>1999</td>\n",
       "      <td>1.0</td>\n",
       "      <td>1.0</td>\n",
       "      <td>20.0</td>\n",
       "      <td>0</td>\n",
       "      <td>2.0</td>\n",
       "      <td>34</td>\n",
       "      <td>NaN</td>\n",
       "      <td>1</td>\n",
       "      <td>5</td>\n",
       "      <td>...</td>\n",
       "      <td>0</td>\n",
       "      <td>0</td>\n",
       "      <td>0</td>\n",
       "      <td>0</td>\n",
       "      <td>0</td>\n",
       "      <td>0</td>\n",
       "      <td>0</td>\n",
       "      <td>1</td>\n",
       "      <td>0</td>\n",
       "      <td>0</td>\n",
       "    </tr>\n",
       "    <tr>\n",
       "      <th>2</th>\n",
       "      <td>1999</td>\n",
       "      <td>1.0</td>\n",
       "      <td>1.0</td>\n",
       "      <td>20.0</td>\n",
       "      <td>0</td>\n",
       "      <td>2.0</td>\n",
       "      <td>34</td>\n",
       "      <td>NaN</td>\n",
       "      <td>1</td>\n",
       "      <td>5</td>\n",
       "      <td>...</td>\n",
       "      <td>0</td>\n",
       "      <td>0</td>\n",
       "      <td>0</td>\n",
       "      <td>0</td>\n",
       "      <td>0</td>\n",
       "      <td>0</td>\n",
       "      <td>0</td>\n",
       "      <td>0</td>\n",
       "      <td>0</td>\n",
       "      <td>0</td>\n",
       "    </tr>\n",
       "    <tr>\n",
       "      <th>3</th>\n",
       "      <td>1999</td>\n",
       "      <td>1.0</td>\n",
       "      <td>1.0</td>\n",
       "      <td>8.0</td>\n",
       "      <td>0</td>\n",
       "      <td>1.0</td>\n",
       "      <td>01</td>\n",
       "      <td>NaN</td>\n",
       "      <td>5</td>\n",
       "      <td>3</td>\n",
       "      <td>...</td>\n",
       "      <td>0</td>\n",
       "      <td>0</td>\n",
       "      <td>0</td>\n",
       "      <td>0</td>\n",
       "      <td>0</td>\n",
       "      <td>0</td>\n",
       "      <td>0</td>\n",
       "      <td>1</td>\n",
       "      <td>0</td>\n",
       "      <td>0</td>\n",
       "    </tr>\n",
       "    <tr>\n",
       "      <th>4</th>\n",
       "      <td>1999</td>\n",
       "      <td>1.0</td>\n",
       "      <td>1.0</td>\n",
       "      <td>8.0</td>\n",
       "      <td>0</td>\n",
       "      <td>1.0</td>\n",
       "      <td>01</td>\n",
       "      <td>NaN</td>\n",
       "      <td>5</td>\n",
       "      <td>3</td>\n",
       "      <td>...</td>\n",
       "      <td>0</td>\n",
       "      <td>0</td>\n",
       "      <td>0</td>\n",
       "      <td>0</td>\n",
       "      <td>0</td>\n",
       "      <td>0</td>\n",
       "      <td>0</td>\n",
       "      <td>1</td>\n",
       "      <td>0</td>\n",
       "      <td>0</td>\n",
       "    </tr>\n",
       "    <tr>\n",
       "      <th>...</th>\n",
       "      <td>...</td>\n",
       "      <td>...</td>\n",
       "      <td>...</td>\n",
       "      <td>...</td>\n",
       "      <td>...</td>\n",
       "      <td>...</td>\n",
       "      <td>...</td>\n",
       "      <td>...</td>\n",
       "      <td>...</td>\n",
       "      <td>...</td>\n",
       "      <td>...</td>\n",
       "      <td>...</td>\n",
       "      <td>...</td>\n",
       "      <td>...</td>\n",
       "      <td>...</td>\n",
       "      <td>...</td>\n",
       "      <td>...</td>\n",
       "      <td>...</td>\n",
       "      <td>...</td>\n",
       "      <td>...</td>\n",
       "      <td>...</td>\n",
       "    </tr>\n",
       "    <tr>\n",
       "      <th>5860400</th>\n",
       "      <td>2014</td>\n",
       "      <td>NaN</td>\n",
       "      <td>NaN</td>\n",
       "      <td>NaN</td>\n",
       "      <td>0</td>\n",
       "      <td>NaN</td>\n",
       "      <td>NaN</td>\n",
       "      <td>01</td>\n",
       "      <td>NaN</td>\n",
       "      <td>NaN</td>\n",
       "      <td>...</td>\n",
       "      <td>0</td>\n",
       "      <td>0</td>\n",
       "      <td>0</td>\n",
       "      <td>0</td>\n",
       "      <td>0</td>\n",
       "      <td>0</td>\n",
       "      <td>1</td>\n",
       "      <td>0</td>\n",
       "      <td>0</td>\n",
       "      <td>0</td>\n",
       "    </tr>\n",
       "    <tr>\n",
       "      <th>5860401</th>\n",
       "      <td>2014</td>\n",
       "      <td>NaN</td>\n",
       "      <td>NaN</td>\n",
       "      <td>23.0</td>\n",
       "      <td>0</td>\n",
       "      <td>1.0</td>\n",
       "      <td>06</td>\n",
       "      <td>05</td>\n",
       "      <td>1</td>\n",
       "      <td>1</td>\n",
       "      <td>...</td>\n",
       "      <td>0</td>\n",
       "      <td>0</td>\n",
       "      <td>0</td>\n",
       "      <td>0</td>\n",
       "      <td>0</td>\n",
       "      <td>0</td>\n",
       "      <td>0</td>\n",
       "      <td>0</td>\n",
       "      <td>0</td>\n",
       "      <td>0</td>\n",
       "    </tr>\n",
       "    <tr>\n",
       "      <th>5860402</th>\n",
       "      <td>2014</td>\n",
       "      <td>NaN</td>\n",
       "      <td>NaN</td>\n",
       "      <td>14.0</td>\n",
       "      <td>0</td>\n",
       "      <td>1.0</td>\n",
       "      <td>02</td>\n",
       "      <td>01</td>\n",
       "      <td>1</td>\n",
       "      <td>5</td>\n",
       "      <td>...</td>\n",
       "      <td>0</td>\n",
       "      <td>0</td>\n",
       "      <td>0</td>\n",
       "      <td>0</td>\n",
       "      <td>0</td>\n",
       "      <td>0</td>\n",
       "      <td>0</td>\n",
       "      <td>0</td>\n",
       "      <td>0</td>\n",
       "      <td>0</td>\n",
       "    </tr>\n",
       "    <tr>\n",
       "      <th>5860403</th>\n",
       "      <td>2014</td>\n",
       "      <td>NaN</td>\n",
       "      <td>NaN</td>\n",
       "      <td>22.0</td>\n",
       "      <td>1</td>\n",
       "      <td>1.0</td>\n",
       "      <td>06</td>\n",
       "      <td>01</td>\n",
       "      <td>2</td>\n",
       "      <td>4</td>\n",
       "      <td>...</td>\n",
       "      <td>0</td>\n",
       "      <td>0</td>\n",
       "      <td>0</td>\n",
       "      <td>0</td>\n",
       "      <td>0</td>\n",
       "      <td>0</td>\n",
       "      <td>0</td>\n",
       "      <td>0</td>\n",
       "      <td>0</td>\n",
       "      <td>1</td>\n",
       "    </tr>\n",
       "    <tr>\n",
       "      <th>5860404</th>\n",
       "      <td>2014</td>\n",
       "      <td>NaN</td>\n",
       "      <td>NaN</td>\n",
       "      <td>22.0</td>\n",
       "      <td>1</td>\n",
       "      <td>1.0</td>\n",
       "      <td>06</td>\n",
       "      <td>01</td>\n",
       "      <td>2</td>\n",
       "      <td>4</td>\n",
       "      <td>...</td>\n",
       "      <td>0</td>\n",
       "      <td>0</td>\n",
       "      <td>0</td>\n",
       "      <td>0</td>\n",
       "      <td>0</td>\n",
       "      <td>0</td>\n",
       "      <td>0</td>\n",
       "      <td>0</td>\n",
       "      <td>0</td>\n",
       "      <td>1</td>\n",
       "    </tr>\n",
       "  </tbody>\n",
       "</table>\n",
       "<p>5860405 rows × 51 columns</p>\n",
       "</div>"
      ],
      "text/plain": [
       "         C_YEAR  C_MNTH  C_WDAY  C_HOUR  C_SEV  C_VEHS C_CONF C_RCFG C_WTHR  \\\n",
       "0          1999     1.0     1.0    20.0      0     2.0     34    NaN      1   \n",
       "1          1999     1.0     1.0    20.0      0     2.0     34    NaN      1   \n",
       "2          1999     1.0     1.0    20.0      0     2.0     34    NaN      1   \n",
       "3          1999     1.0     1.0     8.0      0     1.0     01    NaN      5   \n",
       "4          1999     1.0     1.0     8.0      0     1.0     01    NaN      5   \n",
       "...         ...     ...     ...     ...    ...     ...    ...    ...    ...   \n",
       "5860400    2014     NaN     NaN     NaN      0     NaN    NaN     01    NaN   \n",
       "5860401    2014     NaN     NaN    23.0      0     1.0     06     05      1   \n",
       "5860402    2014     NaN     NaN    14.0      0     1.0     02     01      1   \n",
       "5860403    2014     NaN     NaN    22.0      1     1.0     06     01      2   \n",
       "5860404    2014     NaN     NaN    22.0      1     1.0     06     01      2   \n",
       "\n",
       "        C_RSUR  ... V_TYPE_QQ P_SEX_N  P_SEX_U  P_PSN_NN P_PSN_UU  P_PSN_QQ  \\\n",
       "0            5  ...         0       0        0         0        0         0   \n",
       "1            5  ...         0       0        0         0        0         0   \n",
       "2            5  ...         0       0        0         0        0         0   \n",
       "3            3  ...         0       0        0         0        0         0   \n",
       "4            3  ...         0       0        0         0        0         0   \n",
       "...        ...  ...       ...     ...      ...       ...      ...       ...   \n",
       "5860400    NaN  ...         0       0        0         0        0         0   \n",
       "5860401      1  ...         0       0        0         0        0         0   \n",
       "5860402      5  ...         0       0        0         0        0         0   \n",
       "5860403      4  ...         0       0        0         0        0         0   \n",
       "5860404      4  ...         0       0        0         0        0         0   \n",
       "\n",
       "        P_SAFE_NN P_SAFE_UU P_SAFE_QQ  P_USER_U  \n",
       "0               0         1         0         0  \n",
       "1               0         1         0         0  \n",
       "2               0         0         0         0  \n",
       "3               0         1         0         0  \n",
       "4               0         1         0         0  \n",
       "...           ...       ...       ...       ...  \n",
       "5860400         1         0         0         0  \n",
       "5860401         0         0         0         0  \n",
       "5860402         0         0         0         0  \n",
       "5860403         0         0         0         1  \n",
       "5860404         0         0         0         1  \n",
       "\n",
       "[5860405 rows x 51 columns]"
      ]
     },
     "execution_count": 30,
     "metadata": {},
     "output_type": "execute_result"
    }
   ],
   "source": [
    "X.replace(unknown, np.NaN, inplace=True)\n",
    "X"
   ]
  },
  {
   "cell_type": "code",
   "execution_count": 31,
   "metadata": {},
   "outputs": [
    {
     "data": {
      "text/plain": [
       "{'C_CONF': dtype('O'),\n",
       " 'C_RCFG': dtype('O'),\n",
       " 'C_WTHR': dtype('O'),\n",
       " 'C_RSUR': dtype('O'),\n",
       " 'C_RALN': dtype('O'),\n",
       " 'V_TYPE': dtype('O'),\n",
       " 'P_SEX': dtype('O'),\n",
       " 'P_PSN': dtype('O'),\n",
       " 'P_SAFE': dtype('O'),\n",
       " 'P_USER': dtype('O')}"
      ]
     },
     "execution_count": 31,
     "metadata": {},
     "output_type": "execute_result"
    }
   ],
   "source": [
    "X[categorical_vals].dtypes.to_dict()"
   ]
  },
  {
   "cell_type": "code",
   "execution_count": 32,
   "metadata": {},
   "outputs": [],
   "source": [
    "for i in ['0', '1', '2', '3', '4']:\n",
    "    lista = pd.DataFrame()\n",
    "    lista['C_CONF_' + i] = X[X['C_CONF'].str.startswith(i)==1]['C_CONF'].str[1]\n",
    "    X_concat = pd.concat([X, lista], axis=1)\n",
    "    #X_concat.fillna(0, inplace=True)\n",
    "    X['C_CONF_' + i] = X_concat['C_CONF_' + i]"
   ]
  },
  {
   "cell_type": "code",
   "execution_count": 33,
   "metadata": {},
   "outputs": [],
   "source": [
    "for i in ['0', '1', '2', '3', '4']:\n",
    "    X['C_CONF_' + i].fillna(0, inplace=True)"
   ]
  },
  {
   "cell_type": "code",
   "execution_count": 34,
   "metadata": {},
   "outputs": [
    {
     "data": {
      "text/html": [
       "<div>\n",
       "<style scoped>\n",
       "    .dataframe tbody tr th:only-of-type {\n",
       "        vertical-align: middle;\n",
       "    }\n",
       "\n",
       "    .dataframe tbody tr th {\n",
       "        vertical-align: top;\n",
       "    }\n",
       "\n",
       "    .dataframe thead th {\n",
       "        text-align: right;\n",
       "    }\n",
       "</style>\n",
       "<table border=\"1\" class=\"dataframe\">\n",
       "  <thead>\n",
       "    <tr style=\"text-align: right;\">\n",
       "      <th></th>\n",
       "      <th>C_YEAR</th>\n",
       "      <th>C_MNTH</th>\n",
       "      <th>C_WDAY</th>\n",
       "      <th>C_HOUR</th>\n",
       "      <th>C_SEV</th>\n",
       "      <th>C_VEHS</th>\n",
       "      <th>C_CONF</th>\n",
       "      <th>C_RCFG</th>\n",
       "      <th>C_WTHR</th>\n",
       "      <th>C_RSUR</th>\n",
       "      <th>...</th>\n",
       "      <th>P_PSN_QQ</th>\n",
       "      <th>P_SAFE_NN</th>\n",
       "      <th>P_SAFE_UU</th>\n",
       "      <th>P_SAFE_QQ</th>\n",
       "      <th>P_USER_U</th>\n",
       "      <th>C_CONF_0</th>\n",
       "      <th>C_CONF_1</th>\n",
       "      <th>C_CONF_2</th>\n",
       "      <th>C_CONF_3</th>\n",
       "      <th>C_CONF_4</th>\n",
       "    </tr>\n",
       "  </thead>\n",
       "  <tbody>\n",
       "    <tr>\n",
       "      <th>0</th>\n",
       "      <td>1999</td>\n",
       "      <td>1.0</td>\n",
       "      <td>1.0</td>\n",
       "      <td>20.0</td>\n",
       "      <td>0</td>\n",
       "      <td>2.0</td>\n",
       "      <td>34</td>\n",
       "      <td>NaN</td>\n",
       "      <td>1</td>\n",
       "      <td>5</td>\n",
       "      <td>...</td>\n",
       "      <td>0</td>\n",
       "      <td>0</td>\n",
       "      <td>1</td>\n",
       "      <td>0</td>\n",
       "      <td>0</td>\n",
       "      <td>0</td>\n",
       "      <td>0</td>\n",
       "      <td>0</td>\n",
       "      <td>4</td>\n",
       "      <td>0</td>\n",
       "    </tr>\n",
       "    <tr>\n",
       "      <th>1</th>\n",
       "      <td>1999</td>\n",
       "      <td>1.0</td>\n",
       "      <td>1.0</td>\n",
       "      <td>20.0</td>\n",
       "      <td>0</td>\n",
       "      <td>2.0</td>\n",
       "      <td>34</td>\n",
       "      <td>NaN</td>\n",
       "      <td>1</td>\n",
       "      <td>5</td>\n",
       "      <td>...</td>\n",
       "      <td>0</td>\n",
       "      <td>0</td>\n",
       "      <td>1</td>\n",
       "      <td>0</td>\n",
       "      <td>0</td>\n",
       "      <td>0</td>\n",
       "      <td>0</td>\n",
       "      <td>0</td>\n",
       "      <td>4</td>\n",
       "      <td>0</td>\n",
       "    </tr>\n",
       "    <tr>\n",
       "      <th>2</th>\n",
       "      <td>1999</td>\n",
       "      <td>1.0</td>\n",
       "      <td>1.0</td>\n",
       "      <td>20.0</td>\n",
       "      <td>0</td>\n",
       "      <td>2.0</td>\n",
       "      <td>34</td>\n",
       "      <td>NaN</td>\n",
       "      <td>1</td>\n",
       "      <td>5</td>\n",
       "      <td>...</td>\n",
       "      <td>0</td>\n",
       "      <td>0</td>\n",
       "      <td>0</td>\n",
       "      <td>0</td>\n",
       "      <td>0</td>\n",
       "      <td>0</td>\n",
       "      <td>0</td>\n",
       "      <td>0</td>\n",
       "      <td>4</td>\n",
       "      <td>0</td>\n",
       "    </tr>\n",
       "    <tr>\n",
       "      <th>3</th>\n",
       "      <td>1999</td>\n",
       "      <td>1.0</td>\n",
       "      <td>1.0</td>\n",
       "      <td>8.0</td>\n",
       "      <td>0</td>\n",
       "      <td>1.0</td>\n",
       "      <td>01</td>\n",
       "      <td>NaN</td>\n",
       "      <td>5</td>\n",
       "      <td>3</td>\n",
       "      <td>...</td>\n",
       "      <td>0</td>\n",
       "      <td>0</td>\n",
       "      <td>1</td>\n",
       "      <td>0</td>\n",
       "      <td>0</td>\n",
       "      <td>1</td>\n",
       "      <td>0</td>\n",
       "      <td>0</td>\n",
       "      <td>0</td>\n",
       "      <td>0</td>\n",
       "    </tr>\n",
       "    <tr>\n",
       "      <th>4</th>\n",
       "      <td>1999</td>\n",
       "      <td>1.0</td>\n",
       "      <td>1.0</td>\n",
       "      <td>8.0</td>\n",
       "      <td>0</td>\n",
       "      <td>1.0</td>\n",
       "      <td>01</td>\n",
       "      <td>NaN</td>\n",
       "      <td>5</td>\n",
       "      <td>3</td>\n",
       "      <td>...</td>\n",
       "      <td>0</td>\n",
       "      <td>0</td>\n",
       "      <td>1</td>\n",
       "      <td>0</td>\n",
       "      <td>0</td>\n",
       "      <td>1</td>\n",
       "      <td>0</td>\n",
       "      <td>0</td>\n",
       "      <td>0</td>\n",
       "      <td>0</td>\n",
       "    </tr>\n",
       "  </tbody>\n",
       "</table>\n",
       "<p>5 rows × 56 columns</p>\n",
       "</div>"
      ],
      "text/plain": [
       "   C_YEAR  C_MNTH  C_WDAY  C_HOUR  C_SEV  C_VEHS C_CONF C_RCFG C_WTHR C_RSUR  \\\n",
       "0    1999     1.0     1.0    20.0      0     2.0     34    NaN      1      5   \n",
       "1    1999     1.0     1.0    20.0      0     2.0     34    NaN      1      5   \n",
       "2    1999     1.0     1.0    20.0      0     2.0     34    NaN      1      5   \n",
       "3    1999     1.0     1.0     8.0      0     1.0     01    NaN      5      3   \n",
       "4    1999     1.0     1.0     8.0      0     1.0     01    NaN      5      3   \n",
       "\n",
       "   ... P_PSN_QQ P_SAFE_NN  P_SAFE_UU  P_SAFE_QQ P_USER_U  C_CONF_0 C_CONF_1  \\\n",
       "0  ...        0         0          1          0        0         0        0   \n",
       "1  ...        0         0          1          0        0         0        0   \n",
       "2  ...        0         0          0          0        0         0        0   \n",
       "3  ...        0         0          1          0        0         1        0   \n",
       "4  ...        0         0          1          0        0         1        0   \n",
       "\n",
       "  C_CONF_2 C_CONF_3  C_CONF_4  \n",
       "0        0        4         0  \n",
       "1        0        4         0  \n",
       "2        0        4         0  \n",
       "3        0        0         0  \n",
       "4        0        0         0  \n",
       "\n",
       "[5 rows x 56 columns]"
      ]
     },
     "execution_count": 34,
     "metadata": {},
     "output_type": "execute_result"
    }
   ],
   "source": [
    "X.head()"
   ]
  },
  {
   "cell_type": "code",
   "execution_count": 35,
   "metadata": {},
   "outputs": [
    {
     "data": {
      "text/html": [
       "<div>\n",
       "<style scoped>\n",
       "    .dataframe tbody tr th:only-of-type {\n",
       "        vertical-align: middle;\n",
       "    }\n",
       "\n",
       "    .dataframe tbody tr th {\n",
       "        vertical-align: top;\n",
       "    }\n",
       "\n",
       "    .dataframe thead th {\n",
       "        text-align: right;\n",
       "    }\n",
       "</style>\n",
       "<table border=\"1\" class=\"dataframe\">\n",
       "  <thead>\n",
       "    <tr style=\"text-align: right;\">\n",
       "      <th></th>\n",
       "      <th>C_YEAR</th>\n",
       "      <th>C_MNTH</th>\n",
       "      <th>C_WDAY</th>\n",
       "      <th>C_HOUR</th>\n",
       "      <th>C_SEV</th>\n",
       "      <th>C_VEHS</th>\n",
       "      <th>C_CONF</th>\n",
       "      <th>C_RCFG</th>\n",
       "      <th>C_WTHR</th>\n",
       "      <th>C_RSUR</th>\n",
       "      <th>...</th>\n",
       "      <th>P_SAFE_NN</th>\n",
       "      <th>P_SAFE_UU</th>\n",
       "      <th>P_SAFE_QQ</th>\n",
       "      <th>P_USER_U</th>\n",
       "      <th>C_CONF_0</th>\n",
       "      <th>C_CONF_1</th>\n",
       "      <th>C_CONF_2</th>\n",
       "      <th>C_CONF_3</th>\n",
       "      <th>C_CONF_4</th>\n",
       "      <th>P_MALE</th>\n",
       "    </tr>\n",
       "  </thead>\n",
       "  <tbody>\n",
       "    <tr>\n",
       "      <th>0</th>\n",
       "      <td>1999</td>\n",
       "      <td>1.0</td>\n",
       "      <td>1.0</td>\n",
       "      <td>20.0</td>\n",
       "      <td>0</td>\n",
       "      <td>2.0</td>\n",
       "      <td>34</td>\n",
       "      <td>NaN</td>\n",
       "      <td>1</td>\n",
       "      <td>5</td>\n",
       "      <td>...</td>\n",
       "      <td>0</td>\n",
       "      <td>1</td>\n",
       "      <td>0</td>\n",
       "      <td>0</td>\n",
       "      <td>0</td>\n",
       "      <td>0</td>\n",
       "      <td>0</td>\n",
       "      <td>4</td>\n",
       "      <td>0</td>\n",
       "      <td>1</td>\n",
       "    </tr>\n",
       "    <tr>\n",
       "      <th>1</th>\n",
       "      <td>1999</td>\n",
       "      <td>1.0</td>\n",
       "      <td>1.0</td>\n",
       "      <td>20.0</td>\n",
       "      <td>0</td>\n",
       "      <td>2.0</td>\n",
       "      <td>34</td>\n",
       "      <td>NaN</td>\n",
       "      <td>1</td>\n",
       "      <td>5</td>\n",
       "      <td>...</td>\n",
       "      <td>0</td>\n",
       "      <td>1</td>\n",
       "      <td>0</td>\n",
       "      <td>0</td>\n",
       "      <td>0</td>\n",
       "      <td>0</td>\n",
       "      <td>0</td>\n",
       "      <td>4</td>\n",
       "      <td>0</td>\n",
       "      <td>1</td>\n",
       "    </tr>\n",
       "    <tr>\n",
       "      <th>2</th>\n",
       "      <td>1999</td>\n",
       "      <td>1.0</td>\n",
       "      <td>1.0</td>\n",
       "      <td>20.0</td>\n",
       "      <td>0</td>\n",
       "      <td>2.0</td>\n",
       "      <td>34</td>\n",
       "      <td>NaN</td>\n",
       "      <td>1</td>\n",
       "      <td>5</td>\n",
       "      <td>...</td>\n",
       "      <td>0</td>\n",
       "      <td>0</td>\n",
       "      <td>0</td>\n",
       "      <td>0</td>\n",
       "      <td>0</td>\n",
       "      <td>0</td>\n",
       "      <td>0</td>\n",
       "      <td>4</td>\n",
       "      <td>0</td>\n",
       "      <td>0</td>\n",
       "    </tr>\n",
       "    <tr>\n",
       "      <th>3</th>\n",
       "      <td>1999</td>\n",
       "      <td>1.0</td>\n",
       "      <td>1.0</td>\n",
       "      <td>8.0</td>\n",
       "      <td>0</td>\n",
       "      <td>1.0</td>\n",
       "      <td>01</td>\n",
       "      <td>NaN</td>\n",
       "      <td>5</td>\n",
       "      <td>3</td>\n",
       "      <td>...</td>\n",
       "      <td>0</td>\n",
       "      <td>1</td>\n",
       "      <td>0</td>\n",
       "      <td>0</td>\n",
       "      <td>1</td>\n",
       "      <td>0</td>\n",
       "      <td>0</td>\n",
       "      <td>0</td>\n",
       "      <td>0</td>\n",
       "      <td>1</td>\n",
       "    </tr>\n",
       "    <tr>\n",
       "      <th>4</th>\n",
       "      <td>1999</td>\n",
       "      <td>1.0</td>\n",
       "      <td>1.0</td>\n",
       "      <td>8.0</td>\n",
       "      <td>0</td>\n",
       "      <td>1.0</td>\n",
       "      <td>01</td>\n",
       "      <td>NaN</td>\n",
       "      <td>5</td>\n",
       "      <td>3</td>\n",
       "      <td>...</td>\n",
       "      <td>0</td>\n",
       "      <td>1</td>\n",
       "      <td>0</td>\n",
       "      <td>0</td>\n",
       "      <td>1</td>\n",
       "      <td>0</td>\n",
       "      <td>0</td>\n",
       "      <td>0</td>\n",
       "      <td>0</td>\n",
       "      <td>1</td>\n",
       "    </tr>\n",
       "  </tbody>\n",
       "</table>\n",
       "<p>5 rows × 56 columns</p>\n",
       "</div>"
      ],
      "text/plain": [
       "   C_YEAR  C_MNTH  C_WDAY  C_HOUR  C_SEV  C_VEHS C_CONF C_RCFG C_WTHR C_RSUR  \\\n",
       "0    1999     1.0     1.0    20.0      0     2.0     34    NaN      1      5   \n",
       "1    1999     1.0     1.0    20.0      0     2.0     34    NaN      1      5   \n",
       "2    1999     1.0     1.0    20.0      0     2.0     34    NaN      1      5   \n",
       "3    1999     1.0     1.0     8.0      0     1.0     01    NaN      5      3   \n",
       "4    1999     1.0     1.0     8.0      0     1.0     01    NaN      5      3   \n",
       "\n",
       "   ... P_SAFE_NN P_SAFE_UU  P_SAFE_QQ  P_USER_U  C_CONF_0 C_CONF_1 C_CONF_2  \\\n",
       "0  ...         0         1          0         0         0        0        0   \n",
       "1  ...         0         1          0         0         0        0        0   \n",
       "2  ...         0         0          0         0         0        0        0   \n",
       "3  ...         0         1          0         0         1        0        0   \n",
       "4  ...         0         1          0         0         1        0        0   \n",
       "\n",
       "  C_CONF_3  C_CONF_4  P_MALE  \n",
       "0        4         0       1  \n",
       "1        4         0       1  \n",
       "2        4         0       0  \n",
       "3        0         0       1  \n",
       "4        0         0       1  \n",
       "\n",
       "[5 rows x 56 columns]"
      ]
     },
     "execution_count": 35,
     "metadata": {},
     "output_type": "execute_result"
    }
   ],
   "source": [
    "X['P_MALE'] = pd.get_dummies(X['P_SEX'])['M']\n",
    "X.drop(columns=['P_SEX'], inplace=True)\n",
    "X.head()"
   ]
  },
  {
   "cell_type": "code",
   "execution_count": 36,
   "metadata": {},
   "outputs": [
    {
     "data": {
      "text/html": [
       "<div>\n",
       "<style scoped>\n",
       "    .dataframe tbody tr th:only-of-type {\n",
       "        vertical-align: middle;\n",
       "    }\n",
       "\n",
       "    .dataframe tbody tr th {\n",
       "        vertical-align: top;\n",
       "    }\n",
       "\n",
       "    .dataframe thead th {\n",
       "        text-align: right;\n",
       "    }\n",
       "</style>\n",
       "<table border=\"1\" class=\"dataframe\">\n",
       "  <thead>\n",
       "    <tr style=\"text-align: right;\">\n",
       "      <th></th>\n",
       "      <th>C_YEAR</th>\n",
       "      <th>C_MNTH</th>\n",
       "      <th>C_WDAY</th>\n",
       "      <th>C_HOUR</th>\n",
       "      <th>C_SEV</th>\n",
       "      <th>C_VEHS</th>\n",
       "      <th>C_CONF</th>\n",
       "      <th>C_RCFG</th>\n",
       "      <th>C_WTHR</th>\n",
       "      <th>C_RSUR</th>\n",
       "      <th>...</th>\n",
       "      <th>P_SAFE_UU</th>\n",
       "      <th>P_SAFE_QQ</th>\n",
       "      <th>P_USER_U</th>\n",
       "      <th>C_CONF_0</th>\n",
       "      <th>C_CONF_1</th>\n",
       "      <th>C_CONF_2</th>\n",
       "      <th>C_CONF_3</th>\n",
       "      <th>C_CONF_4</th>\n",
       "      <th>P_MALE</th>\n",
       "      <th>P_SAFE_YES</th>\n",
       "    </tr>\n",
       "  </thead>\n",
       "  <tbody>\n",
       "    <tr>\n",
       "      <th>0</th>\n",
       "      <td>1999</td>\n",
       "      <td>1.0</td>\n",
       "      <td>1.0</td>\n",
       "      <td>20.0</td>\n",
       "      <td>0</td>\n",
       "      <td>2.0</td>\n",
       "      <td>34</td>\n",
       "      <td>NaN</td>\n",
       "      <td>1</td>\n",
       "      <td>5</td>\n",
       "      <td>...</td>\n",
       "      <td>1</td>\n",
       "      <td>0</td>\n",
       "      <td>0</td>\n",
       "      <td>0</td>\n",
       "      <td>0</td>\n",
       "      <td>0</td>\n",
       "      <td>4</td>\n",
       "      <td>0</td>\n",
       "      <td>1</td>\n",
       "      <td>0</td>\n",
       "    </tr>\n",
       "    <tr>\n",
       "      <th>1</th>\n",
       "      <td>1999</td>\n",
       "      <td>1.0</td>\n",
       "      <td>1.0</td>\n",
       "      <td>20.0</td>\n",
       "      <td>0</td>\n",
       "      <td>2.0</td>\n",
       "      <td>34</td>\n",
       "      <td>NaN</td>\n",
       "      <td>1</td>\n",
       "      <td>5</td>\n",
       "      <td>...</td>\n",
       "      <td>1</td>\n",
       "      <td>0</td>\n",
       "      <td>0</td>\n",
       "      <td>0</td>\n",
       "      <td>0</td>\n",
       "      <td>0</td>\n",
       "      <td>4</td>\n",
       "      <td>0</td>\n",
       "      <td>1</td>\n",
       "      <td>0</td>\n",
       "    </tr>\n",
       "    <tr>\n",
       "      <th>2</th>\n",
       "      <td>1999</td>\n",
       "      <td>1.0</td>\n",
       "      <td>1.0</td>\n",
       "      <td>20.0</td>\n",
       "      <td>0</td>\n",
       "      <td>2.0</td>\n",
       "      <td>34</td>\n",
       "      <td>NaN</td>\n",
       "      <td>1</td>\n",
       "      <td>5</td>\n",
       "      <td>...</td>\n",
       "      <td>0</td>\n",
       "      <td>0</td>\n",
       "      <td>0</td>\n",
       "      <td>0</td>\n",
       "      <td>0</td>\n",
       "      <td>0</td>\n",
       "      <td>4</td>\n",
       "      <td>0</td>\n",
       "      <td>0</td>\n",
       "      <td>0</td>\n",
       "    </tr>\n",
       "    <tr>\n",
       "      <th>3</th>\n",
       "      <td>1999</td>\n",
       "      <td>1.0</td>\n",
       "      <td>1.0</td>\n",
       "      <td>8.0</td>\n",
       "      <td>0</td>\n",
       "      <td>1.0</td>\n",
       "      <td>01</td>\n",
       "      <td>NaN</td>\n",
       "      <td>5</td>\n",
       "      <td>3</td>\n",
       "      <td>...</td>\n",
       "      <td>1</td>\n",
       "      <td>0</td>\n",
       "      <td>0</td>\n",
       "      <td>1</td>\n",
       "      <td>0</td>\n",
       "      <td>0</td>\n",
       "      <td>0</td>\n",
       "      <td>0</td>\n",
       "      <td>1</td>\n",
       "      <td>0</td>\n",
       "    </tr>\n",
       "    <tr>\n",
       "      <th>4</th>\n",
       "      <td>1999</td>\n",
       "      <td>1.0</td>\n",
       "      <td>1.0</td>\n",
       "      <td>8.0</td>\n",
       "      <td>0</td>\n",
       "      <td>1.0</td>\n",
       "      <td>01</td>\n",
       "      <td>NaN</td>\n",
       "      <td>5</td>\n",
       "      <td>3</td>\n",
       "      <td>...</td>\n",
       "      <td>1</td>\n",
       "      <td>0</td>\n",
       "      <td>0</td>\n",
       "      <td>1</td>\n",
       "      <td>0</td>\n",
       "      <td>0</td>\n",
       "      <td>0</td>\n",
       "      <td>0</td>\n",
       "      <td>1</td>\n",
       "      <td>0</td>\n",
       "    </tr>\n",
       "  </tbody>\n",
       "</table>\n",
       "<p>5 rows × 56 columns</p>\n",
       "</div>"
      ],
      "text/plain": [
       "   C_YEAR  C_MNTH  C_WDAY  C_HOUR  C_SEV  C_VEHS C_CONF C_RCFG C_WTHR C_RSUR  \\\n",
       "0    1999     1.0     1.0    20.0      0     2.0     34    NaN      1      5   \n",
       "1    1999     1.0     1.0    20.0      0     2.0     34    NaN      1      5   \n",
       "2    1999     1.0     1.0    20.0      0     2.0     34    NaN      1      5   \n",
       "3    1999     1.0     1.0     8.0      0     1.0     01    NaN      5      3   \n",
       "4    1999     1.0     1.0     8.0      0     1.0     01    NaN      5      3   \n",
       "\n",
       "   ... P_SAFE_UU P_SAFE_QQ  P_USER_U  C_CONF_0  C_CONF_1 C_CONF_2 C_CONF_3  \\\n",
       "0  ...         1         0         0         0         0        0        4   \n",
       "1  ...         1         0         0         0         0        0        4   \n",
       "2  ...         0         0         0         0         0        0        4   \n",
       "3  ...         1         0         0         1         0        0        0   \n",
       "4  ...         1         0         0         1         0        0        0   \n",
       "\n",
       "   C_CONF_4  P_MALE  P_SAFE_YES  \n",
       "0         0       1           0  \n",
       "1         0       1           0  \n",
       "2         0       0           0  \n",
       "3         0       1           0  \n",
       "4         0       1           0  \n",
       "\n",
       "[5 rows x 56 columns]"
      ]
     },
     "execution_count": 36,
     "metadata": {},
     "output_type": "execute_result"
    }
   ],
   "source": [
    "X['P_SAFE_YES'] = np.where(X['P_SAFE'].isin(['01', '13', '10']), 1, 0)\n",
    "X.drop(columns=['P_SAFE'], inplace=True)\n",
    "X.head()"
   ]
  },
  {
   "cell_type": "code",
   "execution_count": 37,
   "metadata": {},
   "outputs": [
    {
     "data": {
      "text/plain": [
       "C_CONF_0           0\n",
       "C_CONF_1           0\n",
       "C_CONF_2           0\n",
       "C_CONF_3           0\n",
       "C_CONF_4           0\n",
       "C_RCFG        648946\n",
       "V_TYPE        283111\n",
       "P_MALE             0\n",
       "P_SAFE_YES         0\n",
       "P_USER        175586\n",
       "P_PSN          97677\n",
       "dtype: int64"
      ]
     },
     "execution_count": 37,
     "metadata": {},
     "output_type": "execute_result"
    }
   ],
   "source": [
    "X[['C_CONF_0', 'C_CONF_1', 'C_CONF_2', 'C_CONF_3', 'C_CONF_4', 'C_RCFG', 'V_TYPE', 'P_MALE', 'P_SAFE_YES', 'P_USER', 'P_PSN']].isna().sum()"
   ]
  },
  {
   "cell_type": "code",
   "execution_count": 39,
   "metadata": {},
   "outputs": [],
   "source": [
    "X[['C_RCFG', 'V_TYPE', 'P_MALE', 'P_SAFE_YES', 'P_USER', 'P_PSN']].fillna(\"SIN VALOR\", inplace=True)"
   ]
  },
  {
   "cell_type": "code",
   "execution_count": 40,
   "metadata": {},
   "outputs": [
    {
     "data": {
      "text/plain": [
       "{'C_YEAR': dtype('int16'),\n",
       " 'C_MNTH': dtype('float64'),\n",
       " 'C_WDAY': dtype('float64'),\n",
       " 'C_HOUR': dtype('float64'),\n",
       " 'C_SEV': dtype('uint8'),\n",
       " 'C_VEHS': dtype('float64'),\n",
       " 'C_CONF': dtype('O'),\n",
       " 'C_RCFG': dtype('O'),\n",
       " 'C_WTHR': dtype('O'),\n",
       " 'C_RSUR': dtype('O'),\n",
       " 'C_RALN': dtype('O'),\n",
       " 'V_TYPE': dtype('O'),\n",
       " 'V_YEAR': dtype('float64'),\n",
       " 'P_ID': dtype('float64'),\n",
       " 'P_AGE': dtype('float64'),\n",
       " 'P_PSN': dtype('O'),\n",
       " 'P_USER': dtype('O'),\n",
       " 'C_MNTH_UU': dtype('int32'),\n",
       " 'C_WDAY_U': dtype('int32'),\n",
       " 'C_HOUR_UU': dtype('int32'),\n",
       " 'C_VEHS_UU': dtype('int32'),\n",
       " 'P_ID_NN': dtype('int32'),\n",
       " 'P_ID_UU': dtype('int32'),\n",
       " 'V_YEAR_NNNN': dtype('int32'),\n",
       " 'V_YEAR_UUUU': dtype('int32'),\n",
       " 'P_AGE_NN': dtype('int32'),\n",
       " 'P_AGE_UU': dtype('int32'),\n",
       " 'C_CONF_UU': dtype('int32'),\n",
       " 'C_CONF_QQ': dtype('int32'),\n",
       " 'C_RCFG_UU': dtype('int32'),\n",
       " 'C_RCFG_QQ': dtype('int32'),\n",
       " 'C_WTHR_U': dtype('int32'),\n",
       " 'C_WTHR_Q': dtype('int32'),\n",
       " 'C_RSUR_U': dtype('int32'),\n",
       " 'C_RSUR_Q': dtype('int32'),\n",
       " 'C_RALN_U': dtype('int32'),\n",
       " 'C_RALN_Q': dtype('int32'),\n",
       " 'V_TYPE_NN': dtype('int32'),\n",
       " 'V_TYPE_UU': dtype('int32'),\n",
       " 'V_TYPE_QQ': dtype('int32'),\n",
       " 'P_SEX_N': dtype('int32'),\n",
       " 'P_SEX_U': dtype('int32'),\n",
       " 'P_PSN_NN': dtype('int32'),\n",
       " 'P_PSN_UU': dtype('int32'),\n",
       " 'P_PSN_QQ': dtype('int32'),\n",
       " 'P_SAFE_NN': dtype('int32'),\n",
       " 'P_SAFE_UU': dtype('int32'),\n",
       " 'P_SAFE_QQ': dtype('int32'),\n",
       " 'P_USER_U': dtype('int32'),\n",
       " 'C_CONF_0': dtype('O'),\n",
       " 'C_CONF_1': dtype('int64'),\n",
       " 'C_CONF_2': dtype('O'),\n",
       " 'C_CONF_3': dtype('O'),\n",
       " 'C_CONF_4': dtype('O'),\n",
       " 'P_MALE': dtype('uint8'),\n",
       " 'P_SAFE_YES': dtype('int32')}"
      ]
     },
     "execution_count": 40,
     "metadata": {},
     "output_type": "execute_result"
    }
   ],
   "source": [
    "X.dtypes.to_dict()"
   ]
  },
  {
   "cell_type": "code",
   "execution_count": 41,
   "metadata": {},
   "outputs": [],
   "source": [
    "X.to_csv(r'../data/data_tranformed_01.csv')"
   ]
  },
  {
   "cell_type": "code",
   "execution_count": null,
   "metadata": {},
   "outputs": [],
   "source": []
  }
 ],
 "metadata": {
  "kernelspec": {
   "display_name": "Python 3 (ipykernel)",
   "language": "python",
   "name": "python3"
  },
  "language_info": {
   "codemirror_mode": {
    "name": "ipython",
    "version": 3
   },
   "file_extension": ".py",
   "mimetype": "text/x-python",
   "name": "python",
   "nbconvert_exporter": "python",
   "pygments_lexer": "ipython3",
   "version": "3.8.12"
  }
 },
 "nbformat": 4,
 "nbformat_minor": 4
}
